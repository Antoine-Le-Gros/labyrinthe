{
 "cells": [
  {
   "cell_type": "markdown",
   "id": "51b74ae9",
   "metadata": {},
   "source": [
    "# SAE S2 : Labyrinthe"
   ]
  },
  {
   "cell_type": "code",
   "execution_count": 3,
   "id": "8ed02ff3",
   "metadata": {},
   "outputs": [],
   "source": [
    "from random import *"
   ]
  },
  {
   "cell_type": "markdown",
   "id": "f4d0ec9c",
   "metadata": {},
   "source": [
    "## I) Définition de la classe :"
   ]
  },
  {
   "cell_type": "code",
   "execution_count": 2,
   "id": "9da95cec",
   "metadata": {},
   "outputs": [],
   "source": [
    "class Maze:\n",
    "    \"\"\"\n",
    "    Classe Labyrinthe\n",
    "    Représentation sous forme de graphe non-orienté\n",
    "    dont chaque sommet est une cellule (un tuple (l,c))\n",
    "    et dont la structure est représentée par un dictionnaire\n",
    "      - clés : sommets\n",
    "      - valeurs : ensemble des sommets voisins accessibles\n",
    "    \"\"\"\n",
    "    def __init__(self, height, width, empty):\n",
    "        \"\"\"\n",
    "        Constructeur d'un labyrinthe de height cellules de haut \n",
    "        et de width cellules de large \n",
    "        L'attribut empty défini si le labyrinthe est vide (True) ou plein (False)\n",
    "        Les voisinages sont initialisés à des ensembles vides\n",
    "        Remarque : dans le labyrinthe créé, chaque cellule est complètement emmurée\n",
    "        \"\"\"\n",
    "        self.height    = height\n",
    "        self.width     = width\n",
    "        self.neighbors = {(i,j): set() for i in range(height) for j in range (width)}\n",
    "        if empty:\n",
    "            for i in range(height):\n",
    "                for j in range(width):\n",
    "                    if i > 0:\n",
    "                        self.neighbors[(i,j)].add((i-1,j))\n",
    "                    if i < height-1:\n",
    "                        self.neighbors[(i,j)].add((i+1,j))\n",
    "                    if j > 0:\n",
    "                        self.neighbors[(i,j)].add((i,j-1))\n",
    "                    if j < width-1:\n",
    "                        self.neighbors[(i,j)].add((i,j+1))         \n",
    "        \n",
    "    def info(self):\n",
    "        \"\"\"\n",
    "        **NE PAS MODIFIER CETTE MÉTHODE**\n",
    "        Affichage des attributs d'un objet 'Maze' (fonction utile pour deboguer)\n",
    "        Retour:\n",
    "            chaîne (string): description textuelle des attributs de l'objet\n",
    "        \"\"\"\n",
    "        txt = \"**Informations sur le labyrinthe**\\n\"\n",
    "        txt += f\"- Dimensions de la grille : {self.height} x {self.width}\\n\"\n",
    "        txt += \"- Voisinages :\\n\"\n",
    "        txt += str(self.neighbors)+\"\\n\"\n",
    "        valid = True\n",
    "        for c1 in {(i, j) for i in range(self.height) for j in range(self.width)}:\n",
    "            for c2 in self.neighbors[c1]:\n",
    "                if c1 not in self.neighbors[c2]:\n",
    "                    valid = False\n",
    "                    break\n",
    "            else:\n",
    "                continue\n",
    "            break\n",
    "        txt += \"- Structure cohérente\\n\" if valid else f\"- Structure incohérente : {c1} X {c2}\\n\"\n",
    "        return txt\n",
    "\n",
    "    def __str__(self):\n",
    "        \"\"\"\n",
    "        **NE PAS MODIFIER CETTE MÉTHODE**\n",
    "        Représentation textuelle d'un objet Maze (en utilisant des caractères ascii)\n",
    "        Retour:\n",
    "             chaîne (str) : chaîne de caractères représentant le labyrinthe\n",
    "        \"\"\"\n",
    "        txt = \"\"\n",
    "        # Première ligne\n",
    "        txt += \"┏\"\n",
    "        for j in range(self.width-1):\n",
    "            txt += \"━━━┳\"\n",
    "        txt += \"━━━┓\\n\"\n",
    "        txt += \"┃\"\n",
    "        for j in range(self.width-1):\n",
    "            txt += \"   ┃\" if (0,j+1) not in self.neighbors[(0,j)] else \"    \"\n",
    "        txt += \"   ┃\\n\"\n",
    "        # Lignes normales\n",
    "        for i in range(self.height-1):\n",
    "            txt += \"┣\"\n",
    "            for j in range(self.width-1):\n",
    "                txt += \"━━━╋\" if (i+1,j) not in self.neighbors[(i,j)] else \"   ╋\"\n",
    "            txt += \"━━━┫\\n\" if (i+1,self.width-1) not in self.neighbors[(i,self.width-1)] else \"   ┫\\n\"\n",
    "            txt += \"┃\"\n",
    "            for j in range(self.width):\n",
    "                txt += \"   ┃\" if (i+1,j+1) not in self.neighbors[(i+1,j)] else \"    \"\n",
    "            txt += \"\\n\"\n",
    "        # Bas du tableau\n",
    "        txt += \"┗\"\n",
    "        for i in range(self.width-1):\n",
    "            txt += \"━━━┻\"\n",
    "        txt += \"━━━┛\\n\"\n",
    "        return txt\n",
    "    \n",
    "    def get_cells(self):\n",
    "        \"\"\"\n",
    "        Retourne toutes les cellules du labyrinthes\n",
    "        Retour:\n",
    "            liste (list) : liste contenant toutes les cellules d'un labyrinthe\n",
    "        \"\"\"\n",
    "        L = []\n",
    "        for i in range(self.height):\n",
    "            for j in range(self.width):\n",
    "                L.append((i,j))\n",
    "        return L\n",
    "    \n",
    "    def add_wall(self, c1, c2):\n",
    "        \"\"\"\n",
    "        Ajout d'un mur, ce qui revient à supprimer un mur du dictionnaire\n",
    "        voisins de l'autres, et inversement.\n",
    "        Arguments:\n",
    "            c1 (tuple) : Cellule\n",
    "            c2 (tuple): Voisine de c1\n",
    "        \"\"\"\n",
    "    # Facultatif : on teste si les sommets sont bien dans le labyrinthe\n",
    "        assert 0 <= c1[0] < self.height and \\\n",
    "        0 <= c1[1] < self.width and \\\n",
    "        0 <= c2[0] < self.height and \\\n",
    "        0 <= c2[1] < self.width, \\\n",
    "        f\"Erreur lors de l'ajout d'un mur entre {c1} et {c2} : les coordonnées de sont pas compatibles avec les dimensions du labyrinthe\"\n",
    "    # Ajout du mur\n",
    "        if c2 in self.neighbors[c1]:      # Si c2 est dans les voisines de c1\n",
    "            self.neighbors[c1].remove(c2) # on le retire\n",
    "        if c1 in self.neighbors[c2]:      # Si c3 est dans les voisines de c2\n",
    "            self.neighbors[c2].remove(c1) # on le retire\n",
    "        \n",
    "    def remove_wall(self,c1, c2):\n",
    "        \"\"\"\n",
    "        Supprime un mur, ce qui revient donc à ajouter un mur au dictionnaire\n",
    "        de son voisin et inversement.\n",
    "        Arguments:\n",
    "            c1 (tuple) : Cellule\n",
    "            c2 (tuple): Voisine de c1\n",
    "        \"\"\"\n",
    "        assert 0 <= c1[0] < self.height and \\\n",
    "        0 <= c1[1] < self.width and \\\n",
    "        0 <= c2[0] < self.height and \\\n",
    "        0 <= c2[1] < self.width, \\\n",
    "        f\"Erreur lors de la suppression d'un mur entre {c1} et {c2} : les coordonnées de sont pas compatibles avec les dimensions du labyrinthe\"\n",
    "        # suppresion du mur\n",
    "        if c2 not in self.neighbors[c1]:      # Si c2 n'est pas dans les voisines de c1\n",
    "            self.neighbors[c1].add(c2) # on l'ajoute\n",
    "        if c1 not in self.neighbors[c2]:      # Si c1 n'est pas dans les voisines de c2\n",
    "            self.neighbors[c2].add(c1) # on l'ajoute\n",
    "            \n",
    "    def get_walls(self):\n",
    "        \"\"\"\n",
    "        Retourne tous les murs du labyrinthe sous forme d'une liste de tuple de coordonnées.\n",
    "        \"\"\"\n",
    "        L = []\n",
    "        cells = self.get_cells()\n",
    "        for i in range(self.height):\n",
    "            for j in range(self.width):\n",
    "                c1 = (i,j)\n",
    "                c2 = (i,j+1)\n",
    "                c3 = (i+1,j)\n",
    "                if c2 in cells and c2 not in self.neighbors[c1]:\n",
    "                    L.append((c1,c2))\n",
    "                if c3 in cells and c3 not in self.neighbors[c1]:\n",
    "                    L.append((c1,c3))\n",
    "        return L\n",
    "    \n",
    "    def fill(self):\n",
    "        \"\"\"\n",
    "        Complète tous les murs d'un labyrinthe.\n",
    "        \"\"\"\n",
    "        walls = self.get_walls()\n",
    "        cells = self.get_cells()\n",
    "        for i in range (self.height):\n",
    "            for j in range(self.width):\n",
    "                c1 = (i,j)\n",
    "                c2 = (i,j+1)\n",
    "                c3 = (i+1,j)\n",
    "                if c1 in cells and c2 in cells:\n",
    "                    self.add_wall(c1,c2)\n",
    "                if c1 in cells and c3 in cells:\n",
    "                    self.add_wall(c1,c3)\n",
    "    \n",
    "    def empty(self):\n",
    "        \"\"\"\n",
    "        Supprime tous les murs d'un labyrinthe.\n",
    "        \"\"\"\n",
    "        for i in range(self.height):\n",
    "            for j in range(self.width):\n",
    "                if i > 0:\n",
    "                    self.neighbors[(i,j)].add((i-1,j))\n",
    "                if i < self.height-1:\n",
    "                    self.neighbors[(i,j)].add((i+1,j))\n",
    "                if j > 0:\n",
    "                    self.neighbors[(i,j)].add((i,j-1))\n",
    "                if j < self.width-1:\n",
    "                    self.neighbors[(i,j)].add((i,j+1))\n",
    "                    \n",
    "    def get_contiguous_cells(self,c):\n",
    "        \"\"\"\n",
    "        Retourne la liste de coordonnées des cellules contigües à celle passé en paramètre.\n",
    "        Arguments:\n",
    "            c1 (tuple) : Cellule\n",
    "        Retour:\n",
    "            list (liste) : Liste des cellules contigües\n",
    "        \"\"\"\n",
    "        L = []\n",
    "        cells = self.get_cells()\n",
    "        if c[0]-1 >=0:\n",
    "            L.append((c[0]-1,c[1]))\n",
    "        if c[0]+1 < self.height:\n",
    "            L.append((c[0]+1,c[1]))\n",
    "        if c[1]-1 >=0:\n",
    "            L.append((c[0],c[1]-1))\n",
    "        if c[1]+1 < self.height:\n",
    "            L.append((c[0],c[1]+1))\n",
    "        return L\n",
    "    \n",
    "    def get_reachable_cells(self,c):\n",
    "        \"\"\"\n",
    "        Retourne la liste des cellules accessibles depuis la cellule passée en paramètre.\n",
    "        Arguments:\n",
    "            c1 (tuple) : Cellule\n",
    "        Retour:\n",
    "            list (liste) : Liste des cellules accessibles.\n",
    "        \"\"\"\n",
    "        L = []\n",
    "        walls = self.get_walls()\n",
    "        if c[0]-1 >=0 and ((c[0]-1,c[1]),c) not in walls:\n",
    "            L.append((c[0]-1,c[1]))\n",
    "        if c[0]+1 < self.height and (c,(c[0]+1,c[1])) not in walls :\n",
    "            L.append((c[0]+1,c[1]))\n",
    "        if c[1]-1 >=0 and ((c[0],c[1]-1),c) not in walls:\n",
    "            L.append((c[0],c[1]-1))\n",
    "        if c[1]+1 < self.height and (c,(c[0],c[1]+1)) not in walls:\n",
    "            L.append((c[0],c[1]+1))\n",
    "        return L\n",
    "                          \n",
    "    def gen_btree(self,h,w):\n",
    "        \"\"\"\n",
    "        Génération d'un labyrinthe à partir d'un arbre de binaire. L'arbre binaire\n",
    "        sert donc de support au labyrinthe.\n",
    "        Arguments :\n",
    "            h (int) : Hauteur du labyrinthe\n",
    "            w (int) : Largeur du labyrinthe\n",
    "        Retour:\n",
    "            Maze: Labyrinthe obtenu à partir d'un arbre binaire. \n",
    "        \"\"\"\n",
    "        self = Maze(h,w, False)\n",
    "        cells = self.get_cells()\n",
    "        for i in range(self.height):\n",
    "            for j in range(self.width):\n",
    "                c1 = (i,j)\n",
    "                c2 = (i,j+1)\n",
    "                c3 = (i+1,j)\n",
    "                if c2 != c1 and c3 != c1 and c2 in cells and c3 in cells:\n",
    "                    hasard = randint(2,3)\n",
    "                    if hasard == 2:\n",
    "                        self.remove_wall(c1,c2)\n",
    "                    else:\n",
    "                        self.remove_wall(c1,c3)\n",
    "                elif c2 != c1 and c2 in cells:\n",
    "                    self.remove_wall(c1,c2)\n",
    "                elif c3 != c1 and c3 in cells:\n",
    "                    self.remove_wall(c1,c3)\n",
    "        return self\n",
    "    \n",
    "    def gen_sidewinder(self,height, width):\n",
    "        \"\"\"\n",
    "        Génération d'un labyrinthe à partir de l'algorithme de Sidewinder. Il casse\n",
    "        aléatoirement le mur est ou sud d'une cellule, en parcourant le labyrinthe de l'ouest\n",
    "        à l'est.\n",
    "        Arguments :\n",
    "            height (int) : Hauteur du labyrinthe\n",
    "            width (int) : Largeur du labyrinthe\n",
    "        Retour:\n",
    "            Maze: Labyrinthe obtenu avec cet algorithme.\n",
    "        \"\"\"\n",
    "        self = Maze(height, width, False)\n",
    "        for i in range(self.height-1):\n",
    "            sequence = []\n",
    "            for j in range(self.width-1):\n",
    "                sequence.append((i,j))\n",
    "                c2 = (i,j+1)\n",
    "                if randint(0,1) == 1:\n",
    "                    self.remove_wall((i,j),c2)\n",
    "                else:\n",
    "                    h = randint(0,len(sequence)-1)\n",
    "                    self.remove_wall(sequence[h],(sequence[h][0]+1,sequence[h][1]))\n",
    "                    sequence = []\n",
    "            sequence.append((i,width-1))\n",
    "            hasard = randint(0, len(sequence)-1)\n",
    "            cell_hasard = sequence[hasard]\n",
    "            self.remove_wall(cell_hasard,(cell_hasard[0]+1,cell_hasard[1]))\n",
    "        for i in range(height-1):\n",
    "            self.remove_wall((height-1,i),(height-1,i+1))\n",
    "        return self\n",
    "\n",
    "    def gen_fusion(self, h, w):\n",
    "        \"\"\"\n",
    "        Génération d'un labyrinthe à partir de l'algorithe de fusion de chemin : on\n",
    "        casse aléatoirement des murs pour éviter des cycles qui se répeteraient.\n",
    "        Arguments :\n",
    "            h (int) : Hauteur du labyrinthe\n",
    "            w (int) : Largeur du labyrinthe\n",
    "        Retour:\n",
    "            Maze: Labyrinthe obtenu avec cet algorithme.\n",
    "        \"\"\"\n",
    "        #initialisation\n",
    "        self = Maze(h, w, False) #on remplit le labyrinthe avec tous les murs possibles\n",
    "        cells = {self.get_cells()[label] : label+1 for label in range(len(self.get_cells()))} #on labélise les cellules de 1 à n\n",
    "        #on extrait la liste de tous les murs et on les « mélange » (on les permute aléatoirement)\n",
    "        walls = self.get_walls()\n",
    "        shuffle(walls)\n",
    "        # Pour chaque mur de la liste\n",
    "        for mur in range(len(walls)):\n",
    "            mur_1 = walls[mur][0]\n",
    "            mur_2 = walls[mur][1]\n",
    "            if cells[mur_1] != cells[mur_2]: #Si les deux cellules séparées par le mur n’ont pas le même label\n",
    "                self.remove_wall(mur_1,mur_2) #casser le mur\n",
    "                #affecter le label de l’une des deux cellules, à l’autre, et à toutes celles qui ont le même label que la deuxième\n",
    "                label = cells[mur_1]\n",
    "                cells[mur_1] = cells[mur_2]\n",
    "                for cle,lab in cells.items():\n",
    "                    if lab == label:\n",
    "                        cells[cle] = cells[mur_2]\n",
    "        return self\n",
    "     \n",
    "    def gen_exploration(self,h, w):\n",
    "        \"\"\"\n",
    "        Génération d'un labyrinthe à partir d'une exploration du labyrinthe, en\n",
    "        cassant aléatoirement des murs.\n",
    "        Arguments :\n",
    "            h (int) : Hauteur du labyrinthe\n",
    "            w (int) : Largeur du labyrinthe\n",
    "        Retour:\n",
    "            Maze: Labyrinthe obtenu avec cet algorithme.\n",
    "        \"\"\"\n",
    "        self = Maze(h,w,False)\n",
    "        cells = {self.get_cells()[c] : False for c in range(len(self.get_cells()))}\n",
    "        hasard = randint(0,len(cells)-1)\n",
    "        cell = self.get_cells()[0]\n",
    "        cells[cell] = True\n",
    "        pile = [cell]\n",
    "        while pile != []:\n",
    "            cellule = pile.pop(-1)\n",
    "            contigue = self.get_contiguous_cells(cellule)\n",
    "            voisins_non = []\n",
    "            for contig in contigue:\n",
    "                if not cells[contig]:\n",
    "                    voisins_non.append(contig)\n",
    "            if contigue != [] and voisins_non != []:\n",
    "                pile.append(cellule)\n",
    "                hasard = randint(0,len(voisins_non)-1)\n",
    "                cellule_2 = voisins_non[hasard]\n",
    "                self.remove_wall(cellule,cellule_2)\n",
    "                cells[cellule_2] = True\n",
    "                pile.append(cellule_2)\n",
    "        return self\n",
    "    \n",
    "    def gen_wilson(self,h,w):\n",
    "        \"\"\"\n",
    "        Génération d'un labyrinthe à partir de l'algorithme de Wilson.\n",
    "        Arguments :\n",
    "            h (int) : Hauteur du labyrinthe\n",
    "            w (int) : Largeur du labyrinthe\n",
    "        Retour:\n",
    "            Maze: Labyrinthe obtenu avec cet algorithme.\n",
    "        \"\"\"\n",
    "        self = Maze(h,w,False)\n",
    "        cells = {self.get_cells()[c] : False for c in range(len(self.get_cells()))}\n",
    "        hasard = randint(0,len(cells) - 1)\n",
    "        cell = self.get_cells()[hasard]\n",
    "        cells[cell] = True\n",
    "        while False in cells.values():\n",
    "            i = True\n",
    "            while i:\n",
    "                hasard = randint(0,len(cells) - 1)\n",
    "                if cells[self.get_cells()[hasard]] == False:\n",
    "                    cellule = self.get_cells()[hasard]\n",
    "                    i = False\n",
    "            chemin = [cellule]\n",
    "            while True:\n",
    "                cs = self.get_contiguous_cells(cellule)\n",
    "                hasard = randint(0,len(cs)-1)\n",
    "                cellule = cs[hasard]\n",
    "                if cellule in chemin:\n",
    "                    chemin.clear()\n",
    "                    break\n",
    "                elif cells[cellule]:\n",
    "                    chemin.append(cellule)\n",
    "                    break\n",
    "                else:\n",
    "                    chemin.append(cellule)\n",
    "            if chemin:\n",
    "                for cel in range(len(chemin)-1):\n",
    "                    cells[chemin[cel]] = True\n",
    "                    self.remove_wall(chemin[cel],chemin[cel+1])\n",
    "        return self\n",
    "    \n",
    "    def overlay(self, content=None):\n",
    "        \"\"\"\n",
    "        Rendu en mode texte, sur la sortie standard, \\\n",
    "        d'un labyrinthe avec du contenu dans les cellules\n",
    "        Argument:\n",
    "            content (dict) : dictionnaire tq content[cell] contient le caractère à afficher au milieu de la cellule\n",
    "        Retour:\n",
    "            string\n",
    "        \"\"\"\n",
    "        if content is None:\n",
    "            content = {(i,j):' ' for i in range(self.height) for j in range(self.width)}\n",
    "        else:\n",
    "            # Python >=3.9\n",
    "            #content = content | {(i, j): ' ' for i in range(\n",
    "            #self.height) for j in range(self.width) if (i,j) not in content}\n",
    "            # Python <3.9\n",
    "            new_content = {(i, j): ' ' for i in range(self.height) for j in range(self.width) if (i,j) not in content}\n",
    "            content = {**content, **new_content}\n",
    "        txt = r\"\"\n",
    "        # Première ligne\n",
    "        txt += \"┏\"\n",
    "        for j in range(self.width-1):\n",
    "            txt += \"━━━┳\"\n",
    "        txt += \"━━━┓\\n\"\n",
    "        txt += \"┃\"\n",
    "        for j in range(self.width-1):\n",
    "            txt += \" \"+content[(0,j)]+\" ┃\" if (0,j+1) not in self.neighbors[(0,j)] else \" \"+content[(0,j)]+\"  \"\n",
    "        txt += \" \"+content[(0,self.width-1)]+\" ┃\\n\"\n",
    "        # Lignes normales\n",
    "        for i in range(self.height-1):\n",
    "            txt += \"┣\"\n",
    "            for j in range(self.width-1):\n",
    "                txt += \"━━━╋\" if (i+1,j) not in self.neighbors[(i,j)] else \"   ╋\"\n",
    "            txt += \"━━━┫\\n\" if (i+1,self.width-1) not in self.neighbors[(i,self.width-1)] else \"   ┫\\n\"\n",
    "            txt += \"┃\"\n",
    "            for j in range(self.width):\n",
    "                txt += \" \"+content[(i+1,j)]+\" ┃\" if (i+1,j+1) not in self.neighbors[(i+1,j)] else \" \"+content[(i+1,j)]+\"  \"\n",
    "            txt += \"\\n\"\n",
    "        # Bas du tableau\n",
    "        txt += \"┗\"\n",
    "        for i in range(self.width-1):\n",
    "            txt += \"━━━┻\"\n",
    "        txt += \"━━━┛\\n\"\n",
    "        return txt\n",
    "    \n",
    "    def solve_dfs(self,start, stop):\n",
    "        \"\"\"\n",
    "        Résolution d'un labyrinthe en utilisant un parcours en longueur.\n",
    "        Argument:\n",
    "            start (int) : Point de départ\n",
    "            stop (int) : Point d'arrivée\n",
    "        Retour:\n",
    "            list (liste) : Liste du chemin résolu\n",
    "        \"\"\"\n",
    "        cells = {self.get_cells()[c] : False for c in range(len(self.get_cells()))}\n",
    "        pred = {}\n",
    "        pile = [start]\n",
    "        cells[start] = True\n",
    "        pred[start] = start\n",
    "        termine = False\n",
    "        while False in cells.values() and not termine:\n",
    "            c = pile.pop(0)\n",
    "            if c == stop:\n",
    "                termine = True\n",
    "            else:\n",
    "                for v in self.get_reachable_cells(c):\n",
    "                    if not cells[v]:\n",
    "                        cells[v] = True\n",
    "                        pile.insert(0,v)\n",
    "                        pred[v] = c\n",
    "        c = stop\n",
    "        chemin = []\n",
    "        while c != start:\n",
    "            chemin.append(c)\n",
    "            c = pred[c]\n",
    "        chemin.append(start)\n",
    "        return chemin\n",
    "    \n",
    "    def solve_bfs(self,start, stop):\n",
    "        \"\"\"\n",
    "        Résolution d'un labyrinthe en utilisant un parcours en largeur.\n",
    "        Argument:\n",
    "            start (int) : Point de départ\n",
    "            stop (int) : Point d'arrivée\n",
    "        Retour:\n",
    "            list (liste) : Liste du chemin résolu\n",
    "        \"\"\"\n",
    "        cells = {self.get_cells()[c] : False for c in range(len(self.get_cells()))}\n",
    "        pred = {}\n",
    "        file = [start]\n",
    "        cells[start] = True\n",
    "        pred[start] = start\n",
    "        termine = False\n",
    "        while False in cells.values() and not termine:\n",
    "            c = file.pop(0)\n",
    "            if c == stop:\n",
    "                termine = True\n",
    "            else:\n",
    "                for v in self.get_reachable_cells(c):\n",
    "                    if not cells[v]:\n",
    "                        cells[v] = True\n",
    "                        file.append(v)\n",
    "                        pred[v] = c\n",
    "        c = stop\n",
    "        chemin = []\n",
    "        while c != start:\n",
    "            chemin.append(c)\n",
    "            c = pred[c]\n",
    "        chemin.append(start)\n",
    "        return chemin\n",
    "    \n",
    "    def solve_rhr(self, start, stop):\n",
    "        \"\"\"\n",
    "        Résolution d'un labyrinthe en utilisant la main droite : un parcours en longueur sans\n",
    "        connaissance du labyrinthe.\n",
    "        Argument:\n",
    "            start (int) : Point de départ\n",
    "            stop (int) : Point d'arrivée\n",
    "        Retour:\n",
    "            list (liste) : Liste du chemin résolu\n",
    "        \"\"\"\n",
    "        cells = {self.get_cells()[c] : False for c in range(len(self.get_cells()))}\n",
    "        pred = {}\n",
    "        cells[start] = True\n",
    "        file = [start]\n",
    "        pred[start] = start\n",
    "        termine = False\n",
    "        while False in cells.values() and not termine:\n",
    "            main_dr = file.pop(0)\n",
    "            voisins = self.get_reachable_cells(main_dr)\n",
    "            # tri des voisins\n",
    "            v = 0\n",
    "            if voisins[-1][0] == main_dr[0] and voisins[-1][0] == main_dr[1]+1:\n",
    "                v = voisins.pop(-1)\n",
    "            sorted(voisins,reverse = True,key=lambda x: x[0])\n",
    "            if v != 0:\n",
    "                voisins.append(v)\n",
    "            # ils sont triés dans l'ordre \"bas\",\"gauche\",\"haut\",\"droite\"\n",
    "            voisin = voisins[0]\n",
    "            if main_dr == stop:\n",
    "                termine = True\n",
    "            else:\n",
    "                if len(voisins) == 1 and voisin == pred[main_dr]:\n",
    "                    while len(voisins) == 1:\n",
    "                        voisin = main_dr\n",
    "                        main_dr = pred[main_dr]\n",
    "                        voisins = self.get_reachable_cells(main_dr)\n",
    "                        # tri des voisins\n",
    "                        v = 0\n",
    "                        if voisins[-1][0] == main_dr[0] and voisins[-1][0] == main_dr[1]+1:\n",
    "                            v = voisins.pop(-1)\n",
    "                        sorted(voisins,reverse = True,key=lambda x: x[0])\n",
    "                        if v != 0:\n",
    "                            voisins.append(v)\n",
    "                        # ils sont triés dans l'ordre \"bas\",\"gauche\",\"haut\",\"droite\"\n",
    "                    voisin = voisins[1]\n",
    "                i = 1\n",
    "                while cells[voisin] and i < len(voisins):\n",
    "                    voisin = voisins[i]\n",
    "                    i+=1\n",
    "                if not cells[voisin]:\n",
    "                    cells[voisin] = True\n",
    "                    file.append(voisin)\n",
    "                    pred[voisin] = main_dr\n",
    "                if cells[voisin]:\n",
    "                    file.append(main_dr)\n",
    "        main_dr = stop\n",
    "        chemin = []\n",
    "        while main_dr != start:\n",
    "            chemin.append(main_dr)\n",
    "            main_dr = pred[main_dr]\n",
    "        chemin.append(start)\n",
    "        return chemin\n",
    "    \n",
    "    def distance_geo(self,c1,c2):\n",
    "        \"\"\"\n",
    "        Retourne la distance géodisque entre les deux cellules passées en paramètre.\n",
    "        Arguments :\n",
    "            c1 (int) : Cellule\n",
    "            c2 (int) : Cellule\n",
    "        Retour:\n",
    "            Entier (int) : Distance géodisque entre c1 et c2. \n",
    "        \"\"\"\n",
    "        return len(self.solve_dfs(c1,c2))-1\n",
    "        \n",
    "    def distance_man(self,c1,c2):\n",
    "        \"\"\"\n",
    "        Retourne la distance de Manhattan entre les deux cellules passées en paramètre.\n",
    "        Cette distance correspond à la distance entre deux cellules si le labyrinthe\n",
    "        est vide\n",
    "        Arguments :\n",
    "            c1 (int) : Cellule\n",
    "            c2 (int) : Cellule\n",
    "        Retour:\n",
    "            Entier (int) : Distance de Manhattan.\n",
    "        \"\"\"\n",
    "        longueur = c2[0]+ c2[1] - c1[0] - c1[1]\n",
    "        return abs(longueur)"
   ]
  },
  {
   "cell_type": "markdown",
   "id": "8d9eca61",
   "metadata": {},
   "source": [
    "## II) Exemple de base :"
   ]
  },
  {
   "cell_type": "markdown",
   "id": "b7b646fd",
   "metadata": {},
   "source": [
    "#### a) Affichage du labyrinthe et des infos :"
   ]
  },
  {
   "cell_type": "code",
   "execution_count": 121,
   "id": "a83fed09",
   "metadata": {},
   "outputs": [
    {
     "ename": "TypeError",
     "evalue": "__init__() missing 1 required positional argument: 'empty'",
     "output_type": "error",
     "traceback": [
      "\u001b[0;31m---------------------------------------------------------------------------\u001b[0m",
      "\u001b[0;31mTypeError\u001b[0m                                 Traceback (most recent call last)",
      "Input \u001b[0;32mIn [121]\u001b[0m, in \u001b[0;36m<module>\u001b[0;34m\u001b[0m\n\u001b[0;32m----> 1\u001b[0m laby \u001b[38;5;241m=\u001b[39m \u001b[43mMaze\u001b[49m\u001b[43m(\u001b[49m\u001b[38;5;241;43m4\u001b[39;49m\u001b[43m,\u001b[49m\u001b[43m \u001b[49m\u001b[38;5;241;43m4\u001b[39;49m\u001b[43m)\u001b[49m\n\u001b[1;32m      2\u001b[0m \u001b[38;5;28mprint\u001b[39m(laby\u001b[38;5;241m.\u001b[39minfo())\n\u001b[1;32m      3\u001b[0m \u001b[38;5;28mprint\u001b[39m(laby)\n",
      "\u001b[0;31mTypeError\u001b[0m: __init__() missing 1 required positional argument: 'empty'"
     ]
    }
   ],
   "source": [
    "laby = Maze(4, 4)\n",
    "print(laby.info())\n",
    "print(laby)"
   ]
  },
  {
   "cell_type": "markdown",
   "id": "92760725",
   "metadata": {},
   "source": [
    "#### b) Cassage de murs :"
   ]
  },
  {
   "cell_type": "code",
   "execution_count": 110,
   "id": "967d6bff",
   "metadata": {},
   "outputs": [
    {
     "name": "stdout",
     "output_type": "stream",
     "text": [
      "┏━━━┳━━━┳━━━┳━━━┓\n",
      "┃   ┃           ┃\n",
      "┣   ╋   ╋━━━╋   ┫\n",
      "┃   ┃       ┃   ┃\n",
      "┣   ╋━━━╋   ╋   ┫\n",
      "┃           ┃   ┃\n",
      "┣   ╋━━━╋━━━╋   ┫\n",
      "┃           ┃   ┃\n",
      "┗━━━┻━━━┻━━━┻━━━┛\n",
      "\n"
     ]
    }
   ],
   "source": [
    "laby.neighbors = {\n",
    "    (0, 0): {(1, 0)},\n",
    "    (0, 1): {(0, 2), (1, 1)},\n",
    "    (0, 2): {(0, 1), (0, 3)},\n",
    "    (0, 3): {(0, 2), (1, 3)},\n",
    "    (1, 0): {(2, 0), (0, 0)},\n",
    "    (1, 1): {(0, 1), (1, 2)},\n",
    "    (1, 2): {(1, 1), (2, 2)},\n",
    "    (1, 3): {(2, 3), (0, 3)},\n",
    "    (2, 0): {(1, 0), (2, 1), (3, 0)},\n",
    "    (2, 1): {(2, 0), (2, 2)},\n",
    "    (2, 2): {(1, 2), (2, 1)},\n",
    "    (2, 3): {(3, 3), (1, 3)},\n",
    "    (3, 0): {(3, 1), (2, 0)},\n",
    "    (3, 1): {(3, 2), (3, 0)},\n",
    "    (3, 2): {(3, 1)},\n",
    "    (3, 3): {(2, 3)}\n",
    "}\n",
    "print(laby)"
   ]
  },
  {
   "cell_type": "markdown",
   "id": "b0070b99",
   "metadata": {},
   "source": [
    "#### c) Ajout d'un mur / Suppression d'une arête :"
   ]
  },
  {
   "cell_type": "code",
   "execution_count": 94,
   "id": "fa8ca1cc",
   "metadata": {},
   "outputs": [
    {
     "name": "stdout",
     "output_type": "stream",
     "text": [
      "┏━━━┳━━━┳━━━┳━━━┓\n",
      "┃   ┃           ┃\n",
      "┣   ╋   ╋━━━╋   ┫\n",
      "┃   ┃       ┃   ┃\n",
      "┣   ╋━━━╋   ╋━━━┫\n",
      "┃           ┃   ┃\n",
      "┣   ╋━━━╋━━━╋   ┫\n",
      "┃           ┃   ┃\n",
      "┗━━━┻━━━┻━━━┻━━━┛\n",
      "\n"
     ]
    }
   ],
   "source": [
    "laby.neighbors[(1,3)].remove((2,3))\n",
    "laby.neighbors[(2,3)].remove((1,3))\n",
    "print(laby)"
   ]
  },
  {
   "cell_type": "markdown",
   "id": "3e64763b",
   "metadata": {},
   "source": [
    "#### d) Suppresion de ce mur :"
   ]
  },
  {
   "cell_type": "code",
   "execution_count": 95,
   "id": "0fc74981",
   "metadata": {},
   "outputs": [
    {
     "name": "stdout",
     "output_type": "stream",
     "text": [
      "┏━━━┳━━━┳━━━┳━━━┓\n",
      "┃   ┃           ┃\n",
      "┣   ╋   ╋━━━╋   ┫\n",
      "┃   ┃       ┃   ┃\n",
      "┣   ╋━━━╋   ╋   ┫\n",
      "┃           ┃   ┃\n",
      "┣   ╋━━━╋━━━╋   ┫\n",
      "┃           ┃   ┃\n",
      "┗━━━┻━━━┻━━━┻━━━┛\n",
      "\n"
     ]
    }
   ],
   "source": [
    "laby.neighbors[(1, 3)].add((2, 3))\n",
    "laby.neighbors[(2, 3)].add((1, 3))\n",
    "print(laby)"
   ]
  },
  {
   "cell_type": "markdown",
   "id": "673f8ba4",
   "metadata": {},
   "source": [
    "#### e) Création d'une structure incohérente volontaire :"
   ]
  },
  {
   "cell_type": "code",
   "execution_count": 96,
   "id": "ab64d129",
   "metadata": {},
   "outputs": [
    {
     "name": "stdout",
     "output_type": "stream",
     "text": [
      "┏━━━┳━━━┳━━━┳━━━┓\n",
      "┃   ┃           ┃\n",
      "┣   ╋   ╋━━━╋   ┫\n",
      "┃   ┃       ┃   ┃\n",
      "┣   ╋━━━╋   ╋━━━┫\n",
      "┃           ┃   ┃\n",
      "┣   ╋━━━╋━━━╋   ┫\n",
      "┃           ┃   ┃\n",
      "┗━━━┻━━━┻━━━┻━━━┛\n",
      "\n",
      "**Informations sur le labyrinthe**\n",
      "- Dimensions de la grille : 4 x 4\n",
      "- Voisinages :\n",
      "{(0, 0): {(1, 0)}, (0, 1): {(1, 1), (0, 2)}, (0, 2): {(0, 1), (0, 3)}, (0, 3): {(0, 2), (1, 3)}, (1, 0): {(2, 0), (0, 0)}, (1, 1): {(0, 1), (1, 2)}, (1, 2): {(1, 1), (2, 2)}, (1, 3): {(0, 3)}, (2, 0): {(1, 0), (2, 1), (3, 0)}, (2, 1): {(2, 0), (2, 2)}, (2, 2): {(1, 2), (2, 1)}, (2, 3): {(3, 3), (1, 3)}, (3, 0): {(3, 1), (2, 0)}, (3, 1): {(3, 2), (3, 0)}, (3, 2): {(3, 1)}, (3, 3): {(2, 3)}}\n",
      "- Structure incohérente : (2, 3) X (1, 3)\n",
      "\n"
     ]
    }
   ],
   "source": [
    "laby.neighbors[(1, 3)].remove((2, 3))\n",
    "print(laby)\n",
    "print(laby.info())"
   ]
  },
  {
   "cell_type": "markdown",
   "id": "54c58652",
   "metadata": {},
   "source": [
    "#### f) Correction de cette structure incohérente :"
   ]
  },
  {
   "cell_type": "code",
   "execution_count": 97,
   "id": "1c740792",
   "metadata": {},
   "outputs": [
    {
     "name": "stdout",
     "output_type": "stream",
     "text": [
      "Il y a une incohérence de réciprocité des voisinages de (1, 3) et (2, 3)\n"
     ]
    }
   ],
   "source": [
    "#laby.neighbors[(2, 3)].remove((1,3))\n",
    "c1 = (1, 3)\n",
    "c2 = (2, 3)\n",
    "if c1 in laby.neighbors[c2] and c2 in laby.neighbors[c1]:\n",
    "    print(f\"Il n'y a pas de mur entre {c1} et {c2} car elles sont mutuellement voisines\")\n",
    "elif c1 not in laby.neighbors[c2] and c2 not in laby.neighbors[c1]:\n",
    "    print(f\"Il y a un mur entre {c1} et {c2} car {c1} n'est pas dans le voisinage de {c2} et {c2} n'est pas dans le voisinage de {c1}\")\n",
    "else:\n",
    "    print(f\"Il y a une incohérence de réciprocité des voisinages de {c1} et {c2}\")"
   ]
  },
  {
   "cell_type": "markdown",
   "id": "370dc103",
   "metadata": {},
   "source": [
    "#### g) Lister l'ensemble des cellules (parcours)"
   ]
  },
  {
   "cell_type": "code",
   "execution_count": 98,
   "id": "8c2989ff",
   "metadata": {},
   "outputs": [
    {
     "name": "stdout",
     "output_type": "stream",
     "text": [
      "Liste des cellules : \n",
      "[(0, 0), (0, 1), (0, 2), (0, 3), (1, 0), (1, 1), (1, 2), (1, 3), (2, 0), (2, 1), (2, 2), (2, 3), (3, 0), (3, 1), (3, 2), (3, 3)]\n"
     ]
    }
   ],
   "source": [
    "L = []\n",
    "for i in range(laby.height):\n",
    "    for j in range(laby.width):\n",
    "        L.append((i,j))\n",
    "print(f\"Liste des cellules : \\n{L}\")"
   ]
  },
  {
   "cell_type": "markdown",
   "id": "7cb58b9d",
   "metadata": {},
   "source": [
    "## III) Manipulation"
   ]
  },
  {
   "cell_type": "markdown",
   "id": "3c7b2c17",
   "metadata": {},
   "source": [
    "Avant de tester les fonctions, on commence par tester get_cells, qui récupère toutes les cellules d'une grille."
   ]
  },
  {
   "cell_type": "code",
   "execution_count": 5,
   "id": "af885d6d",
   "metadata": {},
   "outputs": [
    {
     "name": "stdout",
     "output_type": "stream",
     "text": [
      "[(0, 0), (0, 1), (0, 2), (0, 3), (1, 0), (1, 1), (1, 2), (1, 3), (2, 0), (2, 1), (2, 2), (2, 3), (3, 0), (3, 1), (3, 2), (3, 3)]\n"
     ]
    }
   ],
   "source": [
    "laby = Maze(4, 4, False)\n",
    "print(laby.get_cells())"
   ]
  },
  {
   "cell_type": "markdown",
   "id": "47767fe8",
   "metadata": {},
   "source": [
    "#### a) Test de add_wall"
   ]
  },
  {
   "cell_type": "code",
   "execution_count": 100,
   "id": "9e579717",
   "metadata": {},
   "outputs": [
    {
     "name": "stdout",
     "output_type": "stream",
     "text": [
      "┏━━━┳━━━┳━━━┳━━━┓\n",
      "┃               ┃\n",
      "┣   ╋   ╋   ╋   ┫\n",
      "┃               ┃\n",
      "┣   ╋   ╋   ╋   ┫\n",
      "┃               ┃\n",
      "┣   ╋   ╋   ╋   ┫\n",
      "┃               ┃\n",
      "┗━━━┻━━━┻━━━┻━━━┛\n",
      "\n",
      "┏━━━┳━━━┳━━━┳━━━┓\n",
      "┃   ┃           ┃\n",
      "┣   ╋   ╋   ╋   ┫\n",
      "┃               ┃\n",
      "┣   ╋   ╋   ╋   ┫\n",
      "┃               ┃\n",
      "┣   ╋   ╋   ╋   ┫\n",
      "┃               ┃\n",
      "┗━━━┻━━━┻━━━┻━━━┛\n",
      "\n"
     ]
    }
   ],
   "source": [
    "laby = Maze(4, 4, True)\n",
    "print(laby)\n",
    "laby.add_wall((0,0),(0,1))\n",
    "print(laby)"
   ]
  },
  {
   "cell_type": "markdown",
   "id": "46af051f",
   "metadata": {},
   "source": [
    "#### b) Test de remove_wall"
   ]
  },
  {
   "cell_type": "code",
   "execution_count": 142,
   "id": "d3185bc9",
   "metadata": {},
   "outputs": [
    {
     "name": "stdout",
     "output_type": "stream",
     "text": [
      "┏━━━┳━━━┳━━━┳━━━┓\n",
      "┃   ┃   ┃   ┃   ┃\n",
      "┣━━━╋━━━╋━━━╋━━━┫\n",
      "┃   ┃   ┃   ┃   ┃\n",
      "┣━━━╋━━━╋━━━╋━━━┫\n",
      "┃   ┃   ┃   ┃   ┃\n",
      "┣━━━╋━━━╋━━━╋━━━┫\n",
      "┃   ┃   ┃   ┃   ┃\n",
      "┗━━━┻━━━┻━━━┻━━━┛\n",
      "\n",
      "┏━━━┳━━━┳━━━┳━━━┓\n",
      "┃       ┃   ┃   ┃\n",
      "┣━━━╋━━━╋━━━╋━━━┫\n",
      "┃   ┃   ┃   ┃   ┃\n",
      "┣━━━╋━━━╋━━━╋━━━┫\n",
      "┃   ┃   ┃   ┃   ┃\n",
      "┣━━━╋━━━╋━━━╋━━━┫\n",
      "┃   ┃   ┃   ┃   ┃\n",
      "┗━━━┻━━━┻━━━┻━━━┛\n",
      "\n"
     ]
    }
   ],
   "source": [
    "laby = Maze(4, 4, False)\n",
    "print(laby)\n",
    "laby.remove_wall((0,0),(0,1))\n",
    "print(laby)"
   ]
  },
  {
   "cell_type": "markdown",
   "id": "a24dc13c",
   "metadata": {},
   "source": [
    "#### c) Test de get_walls"
   ]
  },
  {
   "cell_type": "code",
   "execution_count": 6,
   "id": "25623458",
   "metadata": {},
   "outputs": [
    {
     "name": "stdout",
     "output_type": "stream",
     "text": [
      "[((0, 0), (0, 1)), ((0, 0), (1, 0)), ((0, 1), (0, 2)), ((0, 1), (1, 1)), ((0, 2), (0, 3)), ((0, 2), (1, 2)), ((0, 3), (1, 3)), ((1, 0), (1, 1)), ((1, 0), (2, 0)), ((1, 1), (1, 2)), ((1, 1), (2, 1)), ((1, 2), (1, 3)), ((1, 2), (2, 2)), ((1, 3), (2, 3)), ((2, 0), (2, 1)), ((2, 0), (3, 0)), ((2, 1), (2, 2)), ((2, 1), (3, 1)), ((2, 2), (2, 3)), ((2, 2), (3, 2)), ((2, 3), (3, 3)), ((3, 0), (3, 1)), ((3, 1), (3, 2)), ((3, 2), (3, 3))]\n",
      "\n",
      "\n",
      "[]\n"
     ]
    }
   ],
   "source": [
    "laby = Maze(4, 4, False)\n",
    "print(laby.get_walls())\n",
    "print(\"\\n\")\n",
    "laby = Maze(4, 4, True)\n",
    "print(laby.get_walls())"
   ]
  },
  {
   "cell_type": "markdown",
   "id": "6fe2b419",
   "metadata": {},
   "source": [
    "#### d) Test de fill"
   ]
  },
  {
   "cell_type": "code",
   "execution_count": 7,
   "id": "33d4b030",
   "metadata": {},
   "outputs": [
    {
     "name": "stdout",
     "output_type": "stream",
     "text": [
      "┏━━━┳━━━┳━━━┳━━━┳━━━┓\n",
      "┃                   ┃\n",
      "┣   ╋   ╋   ╋   ╋   ┫\n",
      "┃                   ┃\n",
      "┣   ╋   ╋   ╋   ╋   ┫\n",
      "┃                   ┃\n",
      "┣   ╋   ╋   ╋   ╋   ┫\n",
      "┃                   ┃\n",
      "┣   ╋   ╋   ╋   ╋   ┫\n",
      "┃                   ┃\n",
      "┗━━━┻━━━┻━━━┻━━━┻━━━┛\n",
      "\n",
      "┏━━━┳━━━┳━━━┳━━━┳━━━┓\n",
      "┃   ┃   ┃   ┃   ┃   ┃\n",
      "┣━━━╋━━━╋━━━╋━━━╋━━━┫\n",
      "┃   ┃   ┃   ┃   ┃   ┃\n",
      "┣━━━╋━━━╋━━━╋━━━╋━━━┫\n",
      "┃   ┃   ┃   ┃   ┃   ┃\n",
      "┣━━━╋━━━╋━━━╋━━━╋━━━┫\n",
      "┃   ┃   ┃   ┃   ┃   ┃\n",
      "┣━━━╋━━━╋━━━╋━━━╋━━━┫\n",
      "┃   ┃   ┃   ┃   ┃   ┃\n",
      "┗━━━┻━━━┻━━━┻━━━┻━━━┛\n",
      "\n"
     ]
    }
   ],
   "source": [
    "laby = Maze(5,5,True)\n",
    "print(laby)\n",
    "laby.fill()\n",
    "print(laby)"
   ]
  },
  {
   "cell_type": "markdown",
   "id": "b73a9b50",
   "metadata": {},
   "source": [
    "#### e) Test de empty"
   ]
  },
  {
   "cell_type": "code",
   "execution_count": 8,
   "id": "059d8437",
   "metadata": {},
   "outputs": [
    {
     "name": "stdout",
     "output_type": "stream",
     "text": [
      "┏━━━┳━━━┳━━━┳━━━┓\n",
      "┃   ┃   ┃   ┃   ┃\n",
      "┣━━━╋━━━╋━━━╋━━━┫\n",
      "┃   ┃   ┃   ┃   ┃\n",
      "┣━━━╋━━━╋━━━╋━━━┫\n",
      "┃   ┃   ┃   ┃   ┃\n",
      "┣━━━╋━━━╋━━━╋━━━┫\n",
      "┃   ┃   ┃   ┃   ┃\n",
      "┗━━━┻━━━┻━━━┻━━━┛\n",
      "\n",
      "┏━━━┳━━━┳━━━┳━━━┓\n",
      "┃               ┃\n",
      "┣   ╋   ╋   ╋   ┫\n",
      "┃               ┃\n",
      "┣   ╋   ╋   ╋   ┫\n",
      "┃               ┃\n",
      "┣   ╋   ╋   ╋   ┫\n",
      "┃               ┃\n",
      "┗━━━┻━━━┻━━━┻━━━┛\n",
      "\n"
     ]
    }
   ],
   "source": [
    "laby = Maze(4,4,False)\n",
    "print(laby)\n",
    "laby.empty()\n",
    "print(laby)"
   ]
  },
  {
   "cell_type": "markdown",
   "id": "099b2b16",
   "metadata": {},
   "source": [
    "#### f) Test de get_contiguous_cells"
   ]
  },
  {
   "cell_type": "code",
   "execution_count": 9,
   "id": "075a3d88",
   "metadata": {},
   "outputs": [
    {
     "name": "stdout",
     "output_type": "stream",
     "text": [
      "┏━━━┳━━━┳━━━┳━━━┓\n",
      "┃               ┃\n",
      "┣   ╋   ╋   ╋   ┫\n",
      "┃               ┃\n",
      "┣   ╋   ╋   ╋   ┫\n",
      "┃               ┃\n",
      "┣   ╋   ╋   ╋   ┫\n",
      "┃               ┃\n",
      "┗━━━┻━━━┻━━━┻━━━┛\n",
      "\n"
     ]
    },
    {
     "data": {
      "text/plain": [
       "[(0, 1), (2, 1), (1, 0), (1, 2)]"
      ]
     },
     "execution_count": 9,
     "metadata": {},
     "output_type": "execute_result"
    }
   ],
   "source": [
    "laby = Maze(4,4,True)\n",
    "print(laby)\n",
    "laby.get_contiguous_cells((1,1))"
   ]
  },
  {
   "cell_type": "markdown",
   "id": "5e05133f",
   "metadata": {},
   "source": [
    "#### g) Test de get_reachable_cells(c)"
   ]
  },
  {
   "cell_type": "code",
   "execution_count": 11,
   "id": "102e4cbe",
   "metadata": {},
   "outputs": [
    {
     "name": "stdout",
     "output_type": "stream",
     "text": [
      "┏━━━┳━━━┳━━━┳━━━┓\n",
      "┃               ┃\n",
      "┣   ╋   ╋   ╋   ┫\n",
      "┃               ┃\n",
      "┣   ╋   ╋   ╋   ┫\n",
      "┃               ┃\n",
      "┣   ╋   ╋   ╋   ┫\n",
      "┃               ┃\n",
      "┗━━━┻━━━┻━━━┻━━━┛\n",
      "\n"
     ]
    },
    {
     "data": {
      "text/plain": [
       "[(1, 2), (3, 2), (2, 1), (2, 3)]"
      ]
     },
     "execution_count": 11,
     "metadata": {},
     "output_type": "execute_result"
    }
   ],
   "source": [
    "laby = Maze(4,4,True)\n",
    "print(laby)\n",
    "laby.get_reachable_cells((2,2))"
   ]
  },
  {
   "cell_type": "markdown",
   "id": "683ec0c1",
   "metadata": {},
   "source": [
    "## IV) Génération"
   ]
  },
  {
   "cell_type": "markdown",
   "id": "a68f1a2c",
   "metadata": {},
   "source": [
    "#### a) Test de gen_btree(h, w) "
   ]
  },
  {
   "cell_type": "code",
   "execution_count": 33,
   "id": "ce01b5b1",
   "metadata": {},
   "outputs": [
    {
     "name": "stdout",
     "output_type": "stream",
     "text": [
      "┏━━━┳━━━┳━━━┳━━━┓\n",
      "┃               ┃\n",
      "┣   ╋   ╋   ╋   ┫\n",
      "┃               ┃\n",
      "┣   ╋   ╋   ╋   ┫\n",
      "┃               ┃\n",
      "┣   ╋   ╋   ╋   ┫\n",
      "┃               ┃\n",
      "┗━━━┻━━━┻━━━┻━━━┛\n",
      "\n",
      "┏━━━┳━━━┳━━━┳━━━┳━━━┳━━━┳━━━┳━━━┳━━━┳━━━┳━━━┳━━━┳━━━┳━━━┳━━━┓\n",
      "┃       ┃                   ┃           ┃   ┃           ┃   ┃\n",
      "┣━━━╋   ╋━━━╋━━━╋━━━╋━━━╋   ╋━━━╋━━━╋   ╋   ╋━━━╋━━━╋   ╋   ┫\n",
      "┃               ┃       ┃   ┃           ┃           ┃   ┃   ┃\n",
      "┣━━━╋━━━╋━━━╋   ╋━━━╋   ╋   ╋━━━╋━━━╋   ╋━━━╋━━━╋   ╋   ╋   ┫\n",
      "┃   ┃           ┃   ┃   ┃   ┃   ┃   ┃   ┃   ┃       ┃   ┃   ┃\n",
      "┣   ╋━━━╋━━━╋   ╋   ╋   ╋   ╋   ╋   ╋   ╋   ╋━━━╋   ╋   ╋   ┫\n",
      "┃   ┃   ┃   ┃   ┃   ┃       ┃           ┃   ┃   ┃   ┃       ┃\n",
      "┣   ╋   ╋   ╋   ╋   ╋━━━╋   ╋━━━╋━━━╋   ╋   ╋   ╋   ╋━━━╋   ┫\n",
      "┃   ┃           ┃       ┃           ┃   ┃   ┃               ┃\n",
      "┣   ╋━━━╋━━━╋   ╋━━━╋   ╋━━━╋━━━╋   ╋   ╋   ╋━━━╋━━━╋━━━╋   ┫\n",
      "┃       ┃           ┃   ┃   ┃       ┃       ┃   ┃       ┃   ┃\n",
      "┣━━━╋   ╋━━━╋━━━╋   ╋   ╋   ╋━━━╋   ╋━━━╋   ╋   ╋━━━╋   ╋   ┫\n",
      "┃   ┃   ┃   ┃                                   ┃           ┃\n",
      "┣   ╋   ╋   ╋━━━╋━━━╋━━━╋━━━╋━━━╋━━━╋━━━╋━━━╋   ╋━━━╋━━━╋   ┫\n",
      "┃       ┃               ┃       ┃       ┃           ┃       ┃\n",
      "┣━━━╋   ╋━━━╋━━━╋━━━╋   ╋━━━╋   ╋━━━╋   ╋━━━╋━━━╋   ╋━━━╋   ┫\n",
      "┃       ┃   ┃                   ┃   ┃   ┃   ┃   ┃   ┃   ┃   ┃\n",
      "┣━━━╋   ╋   ╋━━━╋━━━╋━━━╋━━━╋   ╋   ╋   ╋   ╋   ╋   ╋   ╋   ┫\n",
      "┃       ┃   ┃   ┃       ┃                       ┃       ┃   ┃\n",
      "┣━━━╋   ╋   ╋   ╋━━━╋   ╋━━━╋━━━╋━━━╋━━━╋━━━╋   ╋━━━╋   ╋   ┫\n",
      "┃               ┃           ┃   ┃   ┃   ┃   ┃       ┃       ┃\n",
      "┣━━━╋━━━╋━━━╋   ╋━━━╋━━━╋   ╋   ╋   ╋   ╋   ╋━━━╋   ╋━━━╋   ┫\n",
      "┃               ┃   ┃   ┃   ┃           ┃   ┃               ┃\n",
      "┣━━━╋━━━╋━━━╋   ╋   ╋   ╋   ╋━━━╋━━━╋   ╋   ╋━━━╋━━━╋━━━╋   ┫\n",
      "┃                   ┃               ┃   ┃   ┃       ┃   ┃   ┃\n",
      "┣━━━╋━━━╋━━━╋━━━╋   ╋━━━╋━━━╋━━━╋   ╋   ╋   ╋━━━╋   ╋   ╋   ┫\n",
      "┃   ┃   ┃   ┃       ┃   ┃   ┃           ┃       ┃           ┃\n",
      "┣   ╋   ╋   ╋━━━╋   ╋   ╋   ╋━━━╋━━━╋   ╋━━━╋   ╋━━━╋━━━╋   ┫\n",
      "┃                                                           ┃\n",
      "┗━━━┻━━━┻━━━┻━━━┻━━━┻━━━┻━━━┻━━━┻━━━┻━━━┻━━━┻━━━┻━━━┻━━━┻━━━┛\n",
      "\n"
     ]
    }
   ],
   "source": [
    "laby = Maze(4,4,True)\n",
    "print(laby)\n",
    "print(laby.gen_btree(15,15))"
   ]
  },
  {
   "cell_type": "markdown",
   "id": "9f280246",
   "metadata": {},
   "source": [
    "#### b) Test de gen_sidewinder(h, w)"
   ]
  },
  {
   "cell_type": "code",
   "execution_count": 32,
   "id": "0acddd8c",
   "metadata": {},
   "outputs": [
    {
     "name": "stdout",
     "output_type": "stream",
     "text": [
      "┏━━━┳━━━┳━━━┳━━━┳━━━┳━━━┳━━━┳━━━┳━━━┳━━━┳━━━┳━━━┳━━━┳━━━┳━━━┓\n",
      "┃                                                           ┃\n",
      "┣   ╋   ╋   ╋   ╋   ╋   ╋   ╋   ╋   ╋   ╋   ╋   ╋   ╋   ╋   ┫\n",
      "┃                                                           ┃\n",
      "┣   ╋   ╋   ╋   ╋   ╋   ╋   ╋   ╋   ╋   ╋   ╋   ╋   ╋   ╋   ┫\n",
      "┃                                                           ┃\n",
      "┣   ╋   ╋   ╋   ╋   ╋   ╋   ╋   ╋   ╋   ╋   ╋   ╋   ╋   ╋   ┫\n",
      "┃                                                           ┃\n",
      "┣   ╋   ╋   ╋   ╋   ╋   ╋   ╋   ╋   ╋   ╋   ╋   ╋   ╋   ╋   ┫\n",
      "┃                                                           ┃\n",
      "┣   ╋   ╋   ╋   ╋   ╋   ╋   ╋   ╋   ╋   ╋   ╋   ╋   ╋   ╋   ┫\n",
      "┃                                                           ┃\n",
      "┣   ╋   ╋   ╋   ╋   ╋   ╋   ╋   ╋   ╋   ╋   ╋   ╋   ╋   ╋   ┫\n",
      "┃                                                           ┃\n",
      "┣   ╋   ╋   ╋   ╋   ╋   ╋   ╋   ╋   ╋   ╋   ╋   ╋   ╋   ╋   ┫\n",
      "┃                                                           ┃\n",
      "┣   ╋   ╋   ╋   ╋   ╋   ╋   ╋   ╋   ╋   ╋   ╋   ╋   ╋   ╋   ┫\n",
      "┃                                                           ┃\n",
      "┣   ╋   ╋   ╋   ╋   ╋   ╋   ╋   ╋   ╋   ╋   ╋   ╋   ╋   ╋   ┫\n",
      "┃                                                           ┃\n",
      "┣   ╋   ╋   ╋   ╋   ╋   ╋   ╋   ╋   ╋   ╋   ╋   ╋   ╋   ╋   ┫\n",
      "┃                                                           ┃\n",
      "┣   ╋   ╋   ╋   ╋   ╋   ╋   ╋   ╋   ╋   ╋   ╋   ╋   ╋   ╋   ┫\n",
      "┃                                                           ┃\n",
      "┣   ╋   ╋   ╋   ╋   ╋   ╋   ╋   ╋   ╋   ╋   ╋   ╋   ╋   ╋   ┫\n",
      "┃                                                           ┃\n",
      "┣   ╋   ╋   ╋   ╋   ╋   ╋   ╋   ╋   ╋   ╋   ╋   ╋   ╋   ╋   ┫\n",
      "┃                                                           ┃\n",
      "┣   ╋   ╋   ╋   ╋   ╋   ╋   ╋   ╋   ╋   ╋   ╋   ╋   ╋   ╋   ┫\n",
      "┃                                                           ┃\n",
      "┗━━━┻━━━┻━━━┻━━━┻━━━┻━━━┻━━━┻━━━┻━━━┻━━━┻━━━┻━━━┻━━━┻━━━┻━━━┛\n",
      "\n",
      "┏━━━┳━━━┳━━━┳━━━┳━━━┳━━━┳━━━┳━━━┳━━━┳━━━┳━━━┳━━━┳━━━┳━━━┳━━━┓\n",
      "┃       ┃       ┃   ┃   ┃   ┃   ┃   ┃   ┃   ┃       ┃   ┃   ┃\n",
      "┣   ╋━━━╋━━━╋   ╋   ╋   ╋   ╋   ╋   ╋   ╋   ╋━━━╋   ╋   ╋   ┫\n",
      "┃                   ┃   ┃           ┃   ┃           ┃       ┃\n",
      "┣━━━╋━━━╋━━━╋   ╋━━━╋   ╋━━━╋━━━╋   ╋   ╋   ╋━━━╋━━━╋   ╋━━━┫\n",
      "┃   ┃               ┃       ┃   ┃       ┃           ┃   ┃   ┃\n",
      "┣   ╋   ╋━━━╋━━━╋━━━╋   ╋━━━╋   ╋   ╋━━━╋   ╋━━━╋━━━╋   ╋   ┫\n",
      "┃                   ┃   ┃           ┃       ┃       ┃       ┃\n",
      "┣━━━╋━━━╋━━━╋   ╋━━━╋   ╋━━━╋━━━╋   ╋   ╋━━━╋   ╋━━━╋   ╋━━━┫\n",
      "┃   ┃   ┃           ┃           ┃   ┃                   ┃   ┃\n",
      "┣   ╋   ╋━━━╋   ╋━━━╋━━━╋━━━╋   ╋   ╋━━━╋━━━╋━━━╋   ╋━━━╋   ┫\n",
      "┃       ┃       ┃       ┃           ┃   ┃   ┃   ┃   ┃       ┃\n",
      "┣━━━╋   ╋━━━╋   ╋━━━╋   ╋   ╋━━━╋━━━╋   ╋   ╋   ╋   ╋   ╋━━━┫\n",
      "┃   ┃       ┃   ┃   ┃           ┃           ┃   ┃       ┃   ┃\n",
      "┣   ╋━━━╋   ╋   ╋   ╋━━━╋   ╋━━━╋━━━╋━━━╋   ╋   ╋━━━╋   ╋   ┫\n",
      "┃   ┃   ┃   ┃   ┃   ┃       ┃           ┃                   ┃\n",
      "┣   ╋   ╋   ╋   ╋   ╋━━━╋   ╋━━━╋   ╋━━━╋━━━╋━━━╋   ╋━━━╋━━━┫\n",
      "┃   ┃   ┃               ┃               ┃   ┃               ┃\n",
      "┣   ╋   ╋━━━╋   ╋━━━╋━━━╋━━━╋━━━╋   ╋━━━╋   ╋   ╋━━━╋━━━╋━━━┫\n",
      "┃       ┃       ┃       ┃   ┃   ┃   ┃               ┃       ┃\n",
      "┣   ╋━━━╋   ╋━━━╋   ╋━━━╋   ╋   ╋   ╋━━━╋━━━╋   ╋━━━╋   ╋━━━┫\n",
      "┃       ┃       ┃   ┃   ┃       ┃           ┃       ┃       ┃\n",
      "┣   ╋━━━╋   ╋━━━╋   ╋   ╋   ╋━━━╋━━━╋   ╋━━━╋   ╋━━━╋   ╋━━━┫\n",
      "┃       ┃               ┃   ┃   ┃       ┃   ┃           ┃   ┃\n",
      "┣   ╋━━━╋━━━╋━━━╋━━━╋   ╋   ╋   ╋   ╋━━━╋   ╋━━━╋━━━╋   ╋   ┫\n",
      "┃       ┃   ┃                   ┃       ┃       ┃           ┃\n",
      "┣   ╋━━━╋   ╋   ╋━━━╋━━━╋━━━╋━━━╋━━━╋   ╋   ╋━━━╋   ╋━━━╋━━━┫\n",
      "┃   ┃                           ┃       ┃       ┃   ┃       ┃\n",
      "┣   ╋   ╋━━━╋━━━╋━━━╋━━━╋━━━╋━━━╋   ╋━━━╋   ╋━━━╋   ╋━━━╋   ┫\n",
      "┃                                                           ┃\n",
      "┗━━━┻━━━┻━━━┻━━━┻━━━┻━━━┻━━━┻━━━┻━━━┻━━━┻━━━┻━━━┻━━━┻━━━┻━━━┛\n",
      "\n"
     ]
    }
   ],
   "source": [
    "laby = Maze(15,15,True)\n",
    "print(laby)\n",
    "print(laby.gen_sidewinder(15,15))"
   ]
  },
  {
   "cell_type": "markdown",
   "id": "10683b43",
   "metadata": {},
   "source": [
    "#### c) Test de gen_fusion(h, w)"
   ]
  },
  {
   "cell_type": "code",
   "execution_count": 3,
   "id": "9a9a850a",
   "metadata": {},
   "outputs": [
    {
     "name": "stdout",
     "output_type": "stream",
     "text": [
      "┏━━━┳━━━┳━━━┳━━━┳━━━┳━━━┳━━━┳━━━┳━━━┳━━━┳━━━┳━━━┳━━━┳━━━┳━━━┓\n",
      "┃           ┃   ┃   ┃               ┃   ┃   ┃       ┃       ┃\n",
      "┣━━━╋   ╋━━━╋   ╋   ╋━━━╋━━━╋━━━╋   ╋   ╋   ╋━━━╋   ╋   ╋   ┫\n",
      "┃           ┃           ┃       ┃   ┃               ┃   ┃   ┃\n",
      "┣━━━╋━━━╋   ╋   ╋   ╋━━━╋━━━╋   ╋   ╋   ╋━━━╋━━━╋   ╋   ╋   ┫\n",
      "┃               ┃           ┃               ┃           ┃   ┃\n",
      "┣━━━╋   ╋━━━╋   ╋   ╋━━━╋   ╋   ╋   ╋━━━╋━━━╋   ╋   ╋━━━╋━━━┫\n",
      "┃           ┃   ┃   ┃           ┃           ┃   ┃           ┃\n",
      "┣━━━╋   ╋   ╋   ╋━━━╋   ╋━━━╋━━━╋━━━╋   ╋━━━╋━━━╋━━━╋   ╋━━━┫\n",
      "┃   ┃   ┃   ┃       ┃       ┃   ┃           ┃   ┃           ┃\n",
      "┣   ╋━━━╋━━━╋━━━╋━━━╋   ╋━━━╋   ╋━━━╋━━━╋━━━╋   ╋━━━╋━━━╋━━━┫\n",
      "┃       ┃       ┃                   ┃           ┃       ┃   ┃\n",
      "┣   ╋━━━╋━━━╋   ╋━━━╋   ╋━━━╋   ╋   ╋━━━╋━━━╋   ╋   ╋   ╋   ┫\n",
      "┃       ┃   ┃               ┃   ┃           ┃       ┃       ┃\n",
      "┣   ╋━━━╋   ╋   ╋━━━╋   ╋━━━╋━━━╋━━━╋   ╋━━━╋━━━╋━━━╋━━━╋   ┫\n",
      "┃               ┃           ┃   ┃           ┃               ┃\n",
      "┣   ╋━━━╋━━━╋━━━╋━━━╋━━━╋━━━╋   ╋━━━╋   ╋━━━╋━━━╋━━━╋   ╋   ┫\n",
      "┃   ┃   ┃   ┃   ┃   ┃   ┃           ┃   ┃           ┃   ┃   ┃\n",
      "┣━━━╋   ╋   ╋   ╋   ╋   ╋   ╋━━━╋   ╋   ╋   ╋━━━╋━━━╋   ╋━━━┫\n",
      "┃   ┃           ┃       ┃   ┃                               ┃\n",
      "┣   ╋   ╋   ╋━━━╋   ╋   ╋   ╋━━━╋   ╋   ╋   ╋━━━╋   ╋━━━╋   ┫\n",
      "┃       ┃           ┃       ┃   ┃   ┃   ┃       ┃       ┃   ┃\n",
      "┣━━━╋   ╋━━━╋━━━╋━━━╋━━━╋   ╋   ╋   ╋━━━╋━━━╋   ╋━━━╋   ╋   ┫\n",
      "┃           ┃       ┃   ┃       ┃   ┃           ┃       ┃   ┃\n",
      "┣   ╋━━━╋━━━╋   ╋   ╋   ╋━━━╋━━━╋   ╋   ╋━━━╋━━━╋━━━╋━━━╋   ┫\n",
      "┃           ┃   ┃       ┃           ┃           ┃   ┃       ┃\n",
      "┣━━━╋━━━╋   ╋━━━╋━━━╋   ╋━━━╋   ╋   ╋   ╋   ╋   ╋   ╋   ╋━━━┫\n",
      "┃           ┃       ┃   ┃       ┃   ┃   ┃   ┃   ┃   ┃   ┃   ┃\n",
      "┣   ╋   ╋   ╋   ╋━━━╋   ╋━━━╋━━━╋   ╋━━━╋   ╋━━━╋   ╋   ╋   ┫\n",
      "┃   ┃   ┃                   ┃       ┃           ┃           ┃\n",
      "┗━━━┻━━━┻━━━┻━━━┻━━━┻━━━┻━━━┻━━━┻━━━┻━━━┻━━━┻━━━┻━━━┻━━━┻━━━┛\n",
      "\n"
     ]
    }
   ],
   "source": [
    "laby = Maze(15,15, False)\n",
    "print(laby.gen_fusion(h = 15,w = 15))"
   ]
  },
  {
   "cell_type": "markdown",
   "id": "d7fd6067",
   "metadata": {},
   "source": [
    "#### d) Test de gen_exploration(h, w)"
   ]
  },
  {
   "cell_type": "code",
   "execution_count": 37,
   "id": "28e4443d",
   "metadata": {},
   "outputs": [
    {
     "name": "stdout",
     "output_type": "stream",
     "text": [
      "┏━━━┳━━━┳━━━┳━━━┳━━━┳━━━┳━━━┳━━━┳━━━┳━━━┳━━━┳━━━┳━━━┳━━━┳━━━┓\n",
      "┃   ┃   ┃   ┃   ┃   ┃   ┃   ┃   ┃   ┃   ┃   ┃   ┃   ┃   ┃   ┃\n",
      "┣━━━╋━━━╋━━━╋━━━╋━━━╋━━━╋━━━╋━━━╋━━━╋━━━╋━━━╋━━━╋━━━╋━━━╋━━━┫\n",
      "┃   ┃   ┃   ┃   ┃   ┃   ┃   ┃   ┃   ┃   ┃   ┃   ┃   ┃   ┃   ┃\n",
      "┣━━━╋━━━╋━━━╋━━━╋━━━╋━━━╋━━━╋━━━╋━━━╋━━━╋━━━╋━━━╋━━━╋━━━╋━━━┫\n",
      "┃   ┃   ┃   ┃   ┃   ┃   ┃   ┃   ┃   ┃   ┃   ┃   ┃   ┃   ┃   ┃\n",
      "┣━━━╋━━━╋━━━╋━━━╋━━━╋━━━╋━━━╋━━━╋━━━╋━━━╋━━━╋━━━╋━━━╋━━━╋━━━┫\n",
      "┃   ┃   ┃   ┃   ┃   ┃   ┃   ┃   ┃   ┃   ┃   ┃   ┃   ┃   ┃   ┃\n",
      "┣━━━╋━━━╋━━━╋━━━╋━━━╋━━━╋━━━╋━━━╋━━━╋━━━╋━━━╋━━━╋━━━╋━━━╋━━━┫\n",
      "┃   ┃   ┃   ┃   ┃   ┃   ┃   ┃   ┃   ┃   ┃   ┃   ┃   ┃   ┃   ┃\n",
      "┣━━━╋━━━╋━━━╋━━━╋━━━╋━━━╋━━━╋━━━╋━━━╋━━━╋━━━╋━━━╋━━━╋━━━╋━━━┫\n",
      "┃   ┃   ┃   ┃   ┃   ┃   ┃   ┃   ┃   ┃   ┃   ┃   ┃   ┃   ┃   ┃\n",
      "┣━━━╋━━━╋━━━╋━━━╋━━━╋━━━╋━━━╋━━━╋━━━╋━━━╋━━━╋━━━╋━━━╋━━━╋━━━┫\n",
      "┃   ┃   ┃   ┃   ┃   ┃   ┃   ┃   ┃   ┃   ┃   ┃   ┃   ┃   ┃   ┃\n",
      "┣━━━╋━━━╋━━━╋━━━╋━━━╋━━━╋━━━╋━━━╋━━━╋━━━╋━━━╋━━━╋━━━╋━━━╋━━━┫\n",
      "┃   ┃   ┃   ┃   ┃   ┃   ┃   ┃   ┃   ┃   ┃   ┃   ┃   ┃   ┃   ┃\n",
      "┣━━━╋━━━╋━━━╋━━━╋━━━╋━━━╋━━━╋━━━╋━━━╋━━━╋━━━╋━━━╋━━━╋━━━╋━━━┫\n",
      "┃   ┃   ┃   ┃   ┃   ┃   ┃   ┃   ┃   ┃   ┃   ┃   ┃   ┃   ┃   ┃\n",
      "┣━━━╋━━━╋━━━╋━━━╋━━━╋━━━╋━━━╋━━━╋━━━╋━━━╋━━━╋━━━╋━━━╋━━━╋━━━┫\n",
      "┃   ┃   ┃   ┃   ┃   ┃   ┃   ┃   ┃   ┃   ┃   ┃   ┃   ┃   ┃   ┃\n",
      "┣━━━╋━━━╋━━━╋━━━╋━━━╋━━━╋━━━╋━━━╋━━━╋━━━╋━━━╋━━━╋━━━╋━━━╋━━━┫\n",
      "┃   ┃   ┃   ┃   ┃   ┃   ┃   ┃   ┃   ┃   ┃   ┃   ┃   ┃   ┃   ┃\n",
      "┣━━━╋━━━╋━━━╋━━━╋━━━╋━━━╋━━━╋━━━╋━━━╋━━━╋━━━╋━━━╋━━━╋━━━╋━━━┫\n",
      "┃   ┃   ┃   ┃   ┃   ┃   ┃   ┃   ┃   ┃   ┃   ┃   ┃   ┃   ┃   ┃\n",
      "┣━━━╋━━━╋━━━╋━━━╋━━━╋━━━╋━━━╋━━━╋━━━╋━━━╋━━━╋━━━╋━━━╋━━━╋━━━┫\n",
      "┃   ┃   ┃   ┃   ┃   ┃   ┃   ┃   ┃   ┃   ┃   ┃   ┃   ┃   ┃   ┃\n",
      "┣━━━╋━━━╋━━━╋━━━╋━━━╋━━━╋━━━╋━━━╋━━━╋━━━╋━━━╋━━━╋━━━╋━━━╋━━━┫\n",
      "┃   ┃   ┃   ┃   ┃   ┃   ┃   ┃   ┃   ┃   ┃   ┃   ┃   ┃   ┃   ┃\n",
      "┣━━━╋━━━╋━━━╋━━━╋━━━╋━━━╋━━━╋━━━╋━━━╋━━━╋━━━╋━━━╋━━━╋━━━╋━━━┫\n",
      "┃   ┃   ┃   ┃   ┃   ┃   ┃   ┃   ┃   ┃   ┃   ┃   ┃   ┃   ┃   ┃\n",
      "┗━━━┻━━━┻━━━┻━━━┻━━━┻━━━┻━━━┻━━━┻━━━┻━━━┻━━━┻━━━┻━━━┻━━━┻━━━┛\n",
      "\n"
     ]
    }
   ],
   "source": [
    "laby = Maze(15,15, False)\n",
    "print(laby.gen_exploration(h = 15,w = 15))"
   ]
  },
  {
   "cell_type": "markdown",
   "id": "9a478a14",
   "metadata": {},
   "source": [
    "#### e) Test de gen_wilson()"
   ]
  },
  {
   "cell_type": "code",
   "execution_count": 7,
   "id": "3ccbbca7",
   "metadata": {},
   "outputs": [
    {
     "name": "stdout",
     "output_type": "stream",
     "text": [
      "┏━━━┳━━━┳━━━┳━━━┳━━━┳━━━┳━━━┳━━━┳━━━┳━━━┳━━━┳━━━┳━━━┳━━━┳━━━┓\n",
      "┃       ┃       ┃           ┃           ┃                   ┃\n",
      "┣━━━╋   ╋   ╋   ╋━━━╋   ╋━━━╋━━━╋━━━╋   ╋   ╋   ╋   ╋━━━╋   ┫\n",
      "┃       ┃   ┃                       ┃       ┃   ┃       ┃   ┃\n",
      "┣   ╋   ╋━━━╋━━━╋━━━╋━━━╋━━━╋   ╋━━━╋━━━╋━━━╋   ╋   ╋   ╋   ┫\n",
      "┃   ┃           ┃           ┃           ┃       ┃   ┃   ┃   ┃\n",
      "┣━━━╋   ╋   ╋━━━╋━━━╋   ╋   ╋   ╋   ╋   ╋━━━╋   ╋   ╋━━━╋   ┫\n",
      "┃   ┃   ┃   ┃       ┃   ┃       ┃   ┃   ┃       ┃   ┃   ┃   ┃\n",
      "┣   ╋━━━╋   ╋━━━╋   ╋━━━╋━━━╋   ╋   ╋   ╋━━━╋━━━╋━━━╋   ╋   ┫\n",
      "┃       ┃           ┃           ┃   ┃   ┃           ┃   ┃   ┃\n",
      "┣━━━╋   ╋━━━╋   ╋━━━╋   ╋━━━╋━━━╋   ╋   ╋   ╋━━━╋━━━╋   ╋   ┫\n",
      "┃   ┃   ┃                       ┃   ┃   ┃       ┃   ┃       ┃\n",
      "┣   ╋   ╋   ╋━━━╋━━━╋━━━╋   ╋   ╋   ╋━━━╋   ╋   ╋   ╋━━━╋   ┫\n",
      "┃           ┃       ┃       ┃   ┃       ┃   ┃   ┃           ┃\n",
      "┣━━━╋━━━╋━━━╋━━━╋   ╋   ╋━━━╋   ╋━━━╋━━━╋   ╋━━━╋   ╋   ╋   ┫\n",
      "┃                       ┃   ┃       ┃   ┃   ┃       ┃   ┃   ┃\n",
      "┣   ╋━━━╋   ╋━━━╋   ╋━━━╋   ╋   ╋━━━╋   ╋   ╋━━━╋━━━╋   ╋   ┫\n",
      "┃   ┃       ┃   ┃   ┃                   ┃   ┃           ┃   ┃\n",
      "┣━━━╋   ╋   ╋   ╋   ╋   ╋   ╋━━━╋━━━╋   ╋   ╋   ╋━━━╋   ╋   ┫\n",
      "┃       ┃   ┃   ┃   ┃   ┃       ┃   ┃           ┃   ┃   ┃   ┃\n",
      "┣━━━╋━━━╋   ╋   ╋   ╋   ╋   ╋━━━╋   ╋━━━╋━━━╋━━━╋   ╋   ╋   ┫\n",
      "┃   ┃       ┃   ┃   ┃   ┃       ┃   ┃           ┃       ┃   ┃\n",
      "┣   ╋━━━╋   ╋   ╋━━━╋━━━╋   ╋━━━╋   ╋   ╋━━━╋━━━╋━━━╋   ╋━━━┫\n",
      "┃   ┃       ┃   ┃   ┃       ┃                   ┃   ┃       ┃\n",
      "┣   ╋   ╋━━━╋   ╋   ╋   ╋━━━╋━━━╋━━━╋   ╋━━━╋   ╋   ╋   ╋━━━┫\n",
      "┃       ┃   ┃       ┃           ┃           ┃               ┃\n",
      "┣   ╋━━━╋   ╋   ╋   ╋   ╋━━━╋━━━╋   ╋━━━╋━━━╋   ╋━━━╋━━━╋━━━┫\n",
      "┃   ┃       ┃   ┃   ┃   ┃           ┃               ┃       ┃\n",
      "┣━━━╋   ╋━━━╋   ╋━━━╋━━━╋   ╋━━━╋   ╋   ╋━━━╋━━━╋   ╋   ╋━━━┫\n",
      "┃                               ┃   ┃       ┃               ┃\n",
      "┗━━━┻━━━┻━━━┻━━━┻━━━┻━━━┻━━━┻━━━┻━━━┻━━━┻━━━┻━━━┻━━━┻━━━┻━━━┛\n",
      "\n"
     ]
    }
   ],
   "source": [
    "laby = Maze(15,15, False)\n",
    "print(laby.gen_wilson(h = 15,w = 15))"
   ]
  },
  {
   "cell_type": "markdown",
   "id": "1e7ade40",
   "metadata": {},
   "source": [
    "## V) Résolution"
   ]
  },
  {
   "cell_type": "markdown",
   "id": "e02cd99d",
   "metadata": {},
   "source": [
    "#### a) Test de overlay(content)"
   ]
  },
  {
   "cell_type": "code",
   "execution_count": 3,
   "id": "8528877b",
   "metadata": {},
   "outputs": [
    {
     "name": "stdout",
     "output_type": "stream",
     "text": [
      "┏━━━┳━━━┳━━━┳━━━┓\n",
      "┃ c   o         ┃\n",
      "┣   ╋   ╋   ╋   ┫\n",
      "┃     u         ┃\n",
      "┣   ╋   ╋   ╋   ┫\n",
      "┃     c   o     ┃\n",
      "┣   ╋   ╋   ╋   ┫\n",
      "┃         u   ! ┃\n",
      "┗━━━┻━━━┻━━━┻━━━┛\n",
      "\n"
     ]
    }
   ],
   "source": [
    "laby = Maze(4,4, empty = True)\n",
    "print(laby.overlay({\n",
    "    (0, 0):'c',\n",
    "    (0, 1):'o',\n",
    "    (1, 1):'u',\n",
    "    (2, 1):'c',\n",
    "    (2, 2):'o',\n",
    "    (3, 2):'u',\n",
    "    (3, 3):'!'}))"
   ]
  },
  {
   "cell_type": "markdown",
   "id": "1c496cf4",
   "metadata": {},
   "source": [
    "#### b) Test de solve_dfs(start, stop)"
   ]
  },
  {
   "cell_type": "code",
   "execution_count": 11,
   "id": "8e679ee3",
   "metadata": {},
   "outputs": [
    {
     "name": "stdout",
     "output_type": "stream",
     "text": [
      "┏━━━┳━━━┳━━━┳━━━┳━━━┳━━━┳━━━┳━━━┳━━━┳━━━┳━━━┳━━━┳━━━┳━━━┳━━━┓\n",
      "┃ D   *   * ┃       ┃               ┃               ┃       ┃\n",
      "┣━━━╋   ╋   ╋   ╋   ╋━━━╋   ╋━━━╋   ╋━━━╋   ╋   ╋━━━╋   ╋   ┫\n",
      "┃       ┃ *     ┃           ┃               ┃   ┃   ┃   ┃   ┃\n",
      "┣   ╋   ╋   ╋━━━╋━━━╋   ╋━━━╋━━━╋   ╋━━━╋━━━╋   ╋   ╋   ╋━━━┫\n",
      "┃   ┃   ┃ *   * ┃   ┃       ┃       ┃   ┃   ┃   ┃           ┃\n",
      "┣   ╋   ╋━━━╋   ╋   ╋━━━╋━━━╋━━━╋   ╋   ╋   ╋   ╋   ╋━━━╋━━━┫\n",
      "┃   ┃   ┃     * ┃   ┃       ┃   ┃   ┃                   ┃   ┃\n",
      "┣━━━╋━━━╋━━━╋   ╋   ╋━━━╋   ╋   ╋━━━╋━━━╋━━━╋━━━╋━━━╋   ╋   ┫\n",
      "┃             * ┃               ┃           ┃   ┃           ┃\n",
      "┣   ╋━━━╋━━━╋   ╋   ╋━━━╋━━━╋   ╋   ╋   ╋   ╋   ╋━━━╋   ╋━━━┫\n",
      "┃   ┃       ┃ *         ┃       ┃   ┃   ┃       ┃   ┃       ┃\n",
      "┣━━━╋━━━╋   ╋   ╋━━━╋━━━╋━━━╋━━━╋   ╋━━━╋   ╋━━━╋   ╋━━━╋   ┫\n",
      "┃   ┃ *   *   *     ┃   ┃       ┃   ┃   ┃               ┃   ┃\n",
      "┣   ╋   ╋━━━╋━━━╋   ╋   ╋   ╋━━━╋   ╋   ╋━━━╋   ╋━━━╋━━━╋━━━┫\n",
      "┃     * ┃           ┃       ┃       ┃       ┃       ┃   ┃   ┃\n",
      "┣━━━╋   ╋   ╋━━━╋   ╋━━━╋   ╋━━━╋   ╋   ╋━━━╋━━━╋━━━╋   ╋   ┫\n",
      "┃     * ┃       ┃           ┃       ┃   ┃                   ┃\n",
      "┣━━━╋   ╋━━━╋━━━╋━━━╋━━━╋━━━╋   ╋   ╋   ╋   ╋━━━╋   ╋━━━╋━━━┫\n",
      "┃     *   *   *     ┃       ┃   ┃   ┃           ┃       ┃   ┃\n",
      "┣━━━╋   ╋━━━╋   ╋━━━╋   ╋━━━╋   ╋━━━╋   ╋━━━╋━━━╋━━━╋   ╋   ┫\n",
      "┃   ┃       ┃ * ┃   ┃ *   *   *   *   *   *   * ┃           ┃\n",
      "┣   ╋   ╋━━━╋   ╋   ╋   ╋━━━╋   ╋   ╋━━━╋━━━╋   ╋━━━╋━━━╋   ┫\n",
      "┃           ┃ *   *   * ┃       ┃   ┃   ┃     *     ┃   ┃   ┃\n",
      "┣━━━╋   ╋━━━╋━━━╋━━━╋   ╋   ╋━━━╋   ╋   ╋━━━╋   ╋   ╋   ╋   ┫\n",
      "┃           ┃   ┃       ┃       ┃   ┃   ┃ *   * ┃   ┃       ┃\n",
      "┣━━━╋   ╋━━━╋   ╋━━━╋━━━╋   ╋━━━╋━━━╋   ╋   ╋━━━╋━━━╋━━━╋━━━┫\n",
      "┃       ┃   ┃           ┃   ┃             *   *   *   *   * ┃\n",
      "┣━━━╋   ╋   ╋   ╋━━━╋━━━╋   ╋   ╋━━━╋   ╋━━━╋   ╋━━━╋   ╋   ┫\n",
      "┃               ┃           ┃       ┃   ┃       ┃       ┃ A ┃\n",
      "┗━━━┻━━━┻━━━┻━━━┻━━━┻━━━┻━━━┻━━━┻━━━┻━━━┻━━━┻━━━┻━━━┻━━━┻━━━┛\n",
      "\n"
     ]
    }
   ],
   "source": [
    "laby = Maze(4,4, empty = True)\n",
    "laby = laby.gen_fusion(15, 15)\n",
    "solution = laby.solve_dfs((0, 0), (14, 14))\n",
    "str_solution = {c:'*' for c in solution}\n",
    "str_solution[( 0,  0)] = 'D'\n",
    "str_solution[(14, 14)] = 'A'\n",
    "print(laby.overlay(str_solution))"
   ]
  },
  {
   "cell_type": "markdown",
   "id": "651a1372",
   "metadata": {},
   "source": [
    "#### c) Test de solve_bfs(start, stop)"
   ]
  },
  {
   "cell_type": "code",
   "execution_count": 16,
   "id": "9b1194d9",
   "metadata": {},
   "outputs": [
    {
     "name": "stdout",
     "output_type": "stream",
     "text": [
      "┏━━━┳━━━┳━━━┳━━━┳━━━┳━━━┳━━━┳━━━┳━━━┳━━━┳━━━┳━━━┳━━━┳━━━┳━━━┓\n",
      "┃ D ┃               ┃                                       ┃\n",
      "┣   ╋   ╋━━━╋━━━╋━━━╋   ╋━━━╋   ╋━━━╋━━━╋━━━╋━━━╋━━━╋━━━╋   ┫\n",
      "┃ * ┃       ┃           ┃   ┃       ┃           ┃       ┃   ┃\n",
      "┣   ╋   ╋   ╋   ╋━━━╋━━━╋   ╋━━━╋   ╋   ╋━━━╋   ╋   ╋   ╋━━━┫\n",
      "┃ * ┃   ┃   ┃       ┃           ┃   ┃   ┃   ┃       ┃       ┃\n",
      "┣   ╋━━━╋   ╋━━━╋   ╋━━━╋━━━╋   ╋   ╋   ╋   ╋━━━╋━━━╋━━━╋   ┫\n",
      "┃ * ┃           ┃       ┃       ┃           ┃               ┃\n",
      "┣   ╋   ╋━━━╋━━━╋━━━╋   ╋   ╋━━━╋━━━╋━━━╋━━━╋   ╋━━━╋━━━╋━━━┫\n",
      "┃ * ┃               ┃   ┃   ┃ *   *   *   * ┃               ┃\n",
      "┣   ╋   ╋━━━╋━━━╋   ╋   ╋   ╋   ╋━━━╋━━━╋   ╋   ╋━━━╋━━━╋   ┫\n",
      "┃ * ┃           ┃           ┃ * ┃       ┃ * ┃           ┃   ┃\n",
      "┣   ╋   ╋━━━╋━━━╋━━━╋━━━╋━━━╋   ╋   ╋━━━╋   ╋━━━╋━━━╋   ╋   ┫\n",
      "┃ * ┃   ┃ *   * ┃ *   *   *   * ┃       ┃ * ┃           ┃   ┃\n",
      "┣   ╋━━━╋   ╋   ╋   ╋━━━╋━━━╋━━━╋━━━╋   ╋   ╋━━━╋━━━╋━━━╋   ┫\n",
      "┃ *   *   * ┃ *   * ┃       ┃       ┃   ┃ *   *   *   * ┃   ┃\n",
      "┣━━━╋━━━╋━━━╋━━━╋━━━╋   ╋   ╋   ╋   ╋   ╋━━━╋━━━╋━━━╋   ╋   ┫\n",
      "┃               ┃       ┃       ┃   ┃               ┃ *   * ┃\n",
      "┣   ╋━━━╋━━━╋   ╋   ╋━━━╋━━━╋━━━╋   ╋   ╋━━━╋━━━╋━━━╋━━━╋   ┫\n",
      "┃           ┃       ┃       ┃           ┃ *   *   * ┃ *   * ┃\n",
      "┣   ╋━━━╋   ╋━━━╋━━━╋   ╋   ╋━━━╋━━━╋━━━╋   ╋━━━╋   ╋   ╋━━━┫\n",
      "┃   ┃   ┃   ┃           ┃       ┃ *   * ┃ * ┃ *   * ┃ *   * ┃\n",
      "┣   ╋   ╋   ╋   ╋━━━╋━━━╋━━━╋   ╋   ╋   ╋   ╋   ╋━━━╋━━━╋   ┫\n",
      "┃       ┃   ┃       ┃           ┃ * ┃ *   * ┃ *   *     ┃ * ┃\n",
      "┣━━━╋━━━╋   ╋━━━╋   ╋   ╋━━━╋   ╋   ╋━━━╋━━━╋━━━╋   ╋━━━╋   ┫\n",
      "┃       ┃           ┃   ┃       ┃ *   * ┃       ┃ *   *   * ┃\n",
      "┣   ╋   ╋━━━╋━━━╋━━━╋   ╋━━━╋━━━╋━━━╋   ╋   ╋   ╋━━━╋━━━╋━━━┫\n",
      "┃   ┃                   ┃       ┃ *   * ┃   ┃ *   * ┃ *   * ┃\n",
      "┣   ╋━━━╋━━━╋━━━╋━━━╋━━━╋   ╋   ╋   ╋━━━╋━━━╋   ╋   ╋   ╋   ┫\n",
      "┃                           ┃     *   *   *   * ┃ *   * ┃ A ┃\n",
      "┗━━━┻━━━┻━━━┻━━━┻━━━┻━━━┻━━━┻━━━┻━━━┻━━━┻━━━┻━━━┻━━━┻━━━┻━━━┛\n",
      "\n"
     ]
    }
   ],
   "source": [
    "laby = Maze(4,4, empty = True)\n",
    "laby = laby.gen_exploration(15, 15)\n",
    "solution = laby.solve_bfs((0, 0), (14, 14))\n",
    "str_solution = {c:'*' for c in solution}\n",
    "str_solution[( 0,  0)] = 'D'\n",
    "str_solution[(14, 14)] = 'A'\n",
    "print(laby.overlay(str_solution))"
   ]
  },
  {
   "cell_type": "markdown",
   "id": "1d79a614",
   "metadata": {},
   "source": [
    "#### d) Test de solve_rhr(start, stop)"
   ]
  },
  {
   "cell_type": "code",
   "execution_count": 5,
   "id": "89fa3bb3",
   "metadata": {},
   "outputs": [
    {
     "name": "stdout",
     "output_type": "stream",
     "text": [
      "┏━━━┳━━━┳━━━┳━━━┳━━━┳━━━┳━━━┳━━━┳━━━┳━━━┳━━━┳━━━┳━━━┳━━━┳━━━┓\n",
      "┃ D   *     ┃ *   *     ┃       ┃       ┃                   ┃\n",
      "┣━━━╋   ╋━━━╋   ╋   ╋━━━╋━━━╋   ╋   ╋━━━╋━━━╋━━━╋━━━╋━━━╋   ┫\n",
      "┃   ┃ * ┃   ┃ * ┃ *   *   *   * ┃   ┃   ┃ *   * ┃           ┃\n",
      "┣   ╋   ╋   ╋   ╋━━━╋━━━╋━━━╋   ╋   ╋   ╋   ╋   ╋   ╋   ╋━━━┫\n",
      "┃   ┃ *   *   * ┃       ┃ *   * ┃       ┃ * ┃ *     ┃       ┃\n",
      "┣   ╋━━━╋━━━╋   ╋━━━╋   ╋   ╋━━━╋━━━╋   ╋   ╋   ╋━━━╋━━━╋━━━┫\n",
      "┃   ┃       ┃   ┃         *             ┃ * ┃ *     ┃       ┃\n",
      "┣   ╋   ╋━━━╋━━━╋━━━╋━━━╋   ╋━━━╋━━━╋━━━╋   ╋   ╋━━━╋━━━╋   ┫\n",
      "┃       ┃           ┃     *   *   *   *   * ┃ *         ┃   ┃\n",
      "┣━━━╋   ╋   ╋━━━╋━━━╋   ╋━━━╋━━━╋━━━╋━━━╋━━━╋   ╋━━━╋━━━╋   ┫\n",
      "┃   ┃       ┃       ┃               ┃     *   *             ┃\n",
      "┣   ╋   ╋━━━╋━━━╋   ╋   ╋   ╋━━━╋━━━╋━━━╋   ╋━━━╋   ╋   ╋━━━┫\n",
      "┃                   ┃   ┃   ┃   ┃         * ┃   ┃   ┃       ┃\n",
      "┣   ╋   ╋   ╋━━━╋━━━╋━━━╋   ╋   ╋━━━╋━━━╋   ╋   ╋━━━╋━━━╋   ┫\n",
      "┃   ┃   ┃           ┃   ┃   ┃   ┃   ┃   ┃ *     ┃   ┃       ┃\n",
      "┣   ╋━━━╋━━━╋━━━╋   ╋   ╋━━━╋   ╋   ╋   ╋   ╋━━━╋   ╋━━━╋━━━┫\n",
      "┃           ┃       ┃   ┃           ┃   ┃ *   * ┃           ┃\n",
      "┣━━━╋   ╋━━━╋━━━╋   ╋   ╋━━━╋   ╋━━━╋   ╋━━━╋   ╋   ╋━━━╋━━━┫\n",
      "┃           ┃                       ┃   ┃ *   * ┃   ┃       ┃\n",
      "┣   ╋   ╋━━━╋   ╋   ╋   ╋━━━╋━━━╋━━━╋   ╋   ╋━━━╋   ╋   ╋   ┫\n",
      "┃   ┃       ┃   ┃   ┃                     *             ┃   ┃\n",
      "┣━━━╋   ╋   ╋━━━╋━━━╋   ╋━━━╋   ╋━━━╋━━━╋   ╋━━━╋━━━╋━━━╋━━━┫\n",
      "┃   ┃   ┃           ┃       ┃   ┃   ┃ *   * ┃   ┃   ┃       ┃\n",
      "┣   ╋   ╋━━━╋━━━╋   ╋   ╋━━━╋   ╋   ╋   ╋━━━╋   ╋   ╋   ╋━━━┫\n",
      "┃       ┃   ┃       ┃   ┃       ┃     *   * ┃           ┃   ┃\n",
      "┣━━━╋━━━╋   ╋━━━╋━━━╋━━━╋━━━╋━━━╋━━━╋━━━╋   ╋━━━╋━━━╋   ╋   ┫\n",
      "┃   ┃                                     *         ┃       ┃\n",
      "┣   ╋   ╋   ╋━━━╋   ╋   ╋   ╋━━━╋   ╋━━━╋   ╋━━━╋━━━╋   ╋━━━┫\n",
      "┃       ┃   ┃       ┃   ┃   ┃       ┃     *   *   *   *   A ┃\n",
      "┗━━━┻━━━┻━━━┻━━━┻━━━┻━━━┻━━━┻━━━┻━━━┻━━━┻━━━┻━━━┻━━━┻━━━┻━━━┛\n",
      "\n"
     ]
    }
   ],
   "source": [
    "laby = Maze(4,4, empty = True)\n",
    "laby = laby.gen_fusion(15, 15)\n",
    "solution = laby.solve_rhr((0, 0), (14, 14))\n",
    "str_solution = {c:'*' for c in solution}\n",
    "str_solution[( 0,  0)] = 'D'\n",
    "str_solution[(14, 14)] = 'A'\n",
    "print(laby.overlay(str_solution))"
   ]
  },
  {
   "cell_type": "markdown",
   "id": "be1576ff",
   "metadata": {},
   "source": [
    "## V) Évaluation"
   ]
  },
  {
   "cell_type": "markdown",
   "id": "41067793",
   "metadata": {},
   "source": [
    "#### a) Test de distance_geo(c1, c2)"
   ]
  },
  {
   "cell_type": "code",
   "execution_count": 15,
   "id": "e351659f",
   "metadata": {},
   "outputs": [
    {
     "name": "stdout",
     "output_type": "stream",
     "text": [
      "┏━━━┳━━━┳━━━┳━━━┳━━━┳━━━┓\n",
      "┃           ┃           ┃\n",
      "┣   ╋   ╋━━━╋   ╋━━━╋━━━┫\n",
      "┃   ┃   ┃               ┃\n",
      "┣   ╋━━━╋━━━╋   ╋━━━╋━━━┫\n",
      "┃           ┃           ┃\n",
      "┣━━━╋   ╋   ╋━━━╋━━━╋   ┫\n",
      "┃   ┃   ┃               ┃\n",
      "┣   ╋━━━╋   ╋   ╋━━━╋━━━┫\n",
      "┃           ┃       ┃   ┃\n",
      "┣━━━╋   ╋━━━╋━━━╋   ╋   ┫\n",
      "┃           ┃           ┃\n",
      "┗━━━┻━━━┻━━━┻━━━┻━━━┻━━━┛\n",
      "\n"
     ]
    },
    {
     "data": {
      "text/plain": [
       "5"
      ]
     },
     "execution_count": 15,
     "metadata": {},
     "output_type": "execute_result"
    }
   ],
   "source": [
    "laby = Maze(4,4, empty = True)\n",
    "laby = laby.gen_fusion(6, 6)\n",
    "print(laby)\n",
    "laby.distance_geo((1,1),(2,1))"
   ]
  },
  {
   "cell_type": "markdown",
   "id": "2c53dc03",
   "metadata": {},
   "source": [
    "#### b) Test de distance_man(c1, c2)"
   ]
  },
  {
   "cell_type": "code",
   "execution_count": 27,
   "id": "3944866b",
   "metadata": {},
   "outputs": [
    {
     "name": "stdout",
     "output_type": "stream",
     "text": [
      "┏━━━┳━━━┳━━━┳━━━┳━━━┳━━━┓\n",
      "┃               ┃   ┃   ┃\n",
      "┣   ╋━━━╋━━━╋   ╋   ╋   ┫\n",
      "┃       ┃               ┃\n",
      "┣   ╋   ╋   ╋   ╋━━━╋━━━┫\n",
      "┃   ┃   ┃   ┃   ┃   ┃   ┃\n",
      "┣━━━╋━━━╋   ╋━━━╋   ╋   ┫\n",
      "┃                       ┃\n",
      "┣   ╋━━━╋━━━╋   ╋━━━╋   ┫\n",
      "┃       ┃   ┃   ┃   ┃   ┃\n",
      "┣   ╋   ╋   ╋   ╋   ╋   ┫\n",
      "┃   ┃   ┃       ┃       ┃\n",
      "┗━━━┻━━━┻━━━┻━━━┻━━━┻━━━┛\n",
      "\n"
     ]
    },
    {
     "data": {
      "text/plain": [
       "3"
      ]
     },
     "execution_count": 27,
     "metadata": {},
     "output_type": "execute_result"
    }
   ],
   "source": [
    "laby = Maze(4,4, empty = True)\n",
    "laby = laby.gen_fusion(6, 6)\n",
    "print(laby)\n",
    "laby.distance_man((1,1),(4,1))"
   ]
  }
 ],
 "metadata": {
  "kernelspec": {
   "display_name": "Python 3 (ipykernel)",
   "language": "python",
   "name": "python3"
  },
  "language_info": {
   "codemirror_mode": {
    "name": "ipython",
    "version": 3
   },
   "file_extension": ".py",
   "mimetype": "text/x-python",
   "name": "python",
   "nbconvert_exporter": "python",
   "pygments_lexer": "ipython3",
   "version": "3.8.10"
  }
 },
 "nbformat": 4,
 "nbformat_minor": 5
}
